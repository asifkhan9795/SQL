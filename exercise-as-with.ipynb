{
 "cells": [
  {
   "cell_type": "markdown",
   "id": "057e8413",
   "metadata": {
    "papermill": {
     "duration": 0.006935,
     "end_time": "2024-08-31T18:01:45.891579",
     "exception": false,
     "start_time": "2024-08-31T18:01:45.884644",
     "status": "completed"
    },
    "tags": []
   },
   "source": [
    "**This notebook is an exercise in the [SQL](https://www.kaggle.com/learn/intro-to-sql) course.  You can reference the tutorial at [this link](https://www.kaggle.com/dansbecker/as-with).**\n",
    "\n",
    "---\n"
   ]
  },
  {
   "cell_type": "markdown",
   "id": "eb89ccbf",
   "metadata": {
    "papermill": {
     "duration": 0.006063,
     "end_time": "2024-08-31T18:01:45.904324",
     "exception": false,
     "start_time": "2024-08-31T18:01:45.898261",
     "status": "completed"
    },
    "tags": []
   },
   "source": [
    "# Introduction\n",
    "\n",
    "You are getting to the point where you can own an analysis from beginning to end. So you'll do more data exploration in this exercise than you've done before.  Before you get started, run the following set-up code as usual. "
   ]
  },
  {
   "cell_type": "code",
   "execution_count": 1,
   "id": "58315e48",
   "metadata": {
    "execution": {
     "iopub.execute_input": "2024-08-31T18:01:45.919976Z",
     "iopub.status.busy": "2024-08-31T18:01:45.919501Z",
     "iopub.status.idle": "2024-08-31T18:02:19.916607Z",
     "shell.execute_reply": "2024-08-31T18:02:19.915270Z"
    },
    "papermill": {
     "duration": 34.015004,
     "end_time": "2024-08-31T18:02:19.925683",
     "exception": false,
     "start_time": "2024-08-31T18:01:45.910679",
     "status": "completed"
    },
    "tags": []
   },
   "outputs": [
    {
     "name": "stdout",
     "output_type": "stream",
     "text": [
      "Collecting git+https://github.com/Kaggle/learntools.git\r\n",
      "  Cloning https://github.com/Kaggle/learntools.git to /tmp/pip-req-build-78eagdjc\r\n",
      "  Running command git clone --filter=blob:none --quiet https://github.com/Kaggle/learntools.git /tmp/pip-req-build-78eagdjc\r\n",
      "  Resolved https://github.com/Kaggle/learntools.git to commit ca2a51ee0085e4943cadaf5e9fe7dce2ec947d3c\r\n",
      "  Preparing metadata (setup.py) ... \u001b[?25ldone\r\n",
      "\u001b[?25hBuilding wheels for collected packages: learntools\r\n",
      "  Building wheel for learntools (setup.py) ... \u001b[?25l-\b \bdone\r\n",
      "\u001b[?25h  Created wheel for learntools: filename=learntools-0.3.4-py3-none-any.whl size=268968 sha256=0b725f51cd4eb2d98e9e8e5290035359fc00fa4ef4b8a077168a43cb4439abb7\r\n",
      "  Stored in directory: /tmp/pip-ephem-wheel-cache-rg4p4ml5/wheels/2f/6c/3c/aa9f50cfb5a862157cb4c7a5b34881828cf45404698255dced\r\n",
      "Successfully built learntools\r\n",
      "Installing collected packages: learntools\r\n",
      "Successfully installed learntools-0.3.4\r\n",
      "Using Kaggle's public dataset BigQuery integration.\n",
      "Setup Complete\n"
     ]
    }
   ],
   "source": [
    "# Get most recent checking code\n",
    "!pip install -U -t /kaggle/working/ git+https://github.com/Kaggle/learntools.git\n",
    "# Set up feedback system\n",
    "from learntools.core import binder\n",
    "binder.bind(globals())\n",
    "from learntools.sql.ex5 import *\n",
    "print(\"Setup Complete\")"
   ]
  },
  {
   "cell_type": "markdown",
   "id": "f7e7069a",
   "metadata": {
    "papermill": {
     "duration": 0.007101,
     "end_time": "2024-08-31T18:02:19.939972",
     "exception": false,
     "start_time": "2024-08-31T18:02:19.932871",
     "status": "completed"
    },
    "tags": []
   },
   "source": [
    "You'll work with a dataset about taxi trips in the city of Chicago. Run the cell below to fetch the `chicago_taxi_trips` dataset."
   ]
  },
  {
   "cell_type": "code",
   "execution_count": 2,
   "id": "16d1c234",
   "metadata": {
    "execution": {
     "iopub.execute_input": "2024-08-31T18:02:19.956447Z",
     "iopub.status.busy": "2024-08-31T18:02:19.955783Z",
     "iopub.status.idle": "2024-08-31T18:02:20.590932Z",
     "shell.execute_reply": "2024-08-31T18:02:20.589435Z"
    },
    "papermill": {
     "duration": 0.646589,
     "end_time": "2024-08-31T18:02:20.593694",
     "exception": false,
     "start_time": "2024-08-31T18:02:19.947105",
     "status": "completed"
    },
    "tags": []
   },
   "outputs": [
    {
     "name": "stdout",
     "output_type": "stream",
     "text": [
      "Using Kaggle's public dataset BigQuery integration.\n"
     ]
    }
   ],
   "source": [
    "from google.cloud import bigquery\n",
    "\n",
    "# Create a \"Client\" object\n",
    "client = bigquery.Client()\n",
    "\n",
    "# Construct a reference to the \"chicago_taxi_trips\" dataset\n",
    "dataset_ref = client.dataset(\"chicago_taxi_trips\", project=\"bigquery-public-data\")\n",
    "\n",
    "# API request - fetch the dataset\n",
    "dataset = client.get_dataset(dataset_ref)"
   ]
  },
  {
   "cell_type": "markdown",
   "id": "183c33a6",
   "metadata": {
    "papermill": {
     "duration": 0.007994,
     "end_time": "2024-08-31T18:02:20.608773",
     "exception": false,
     "start_time": "2024-08-31T18:02:20.600779",
     "status": "completed"
    },
    "tags": []
   },
   "source": [
    "# Exercises\n",
    "\n",
    "You are curious how much slower traffic moves when traffic volume is high. This involves a few steps.\n",
    "\n",
    "### 1) Find the data\n",
    "Before you can access the data, you need to find the table name with the data.\n",
    "\n",
    "*Hint*: Tab completion is helpful whenever you can't remember a command. Type `client.` and then hit the tab key. Don't forget the period before hitting tab."
   ]
  },
  {
   "cell_type": "code",
   "execution_count": 3,
   "id": "3f29ba96",
   "metadata": {
    "execution": {
     "iopub.execute_input": "2024-08-31T18:02:20.626623Z",
     "iopub.status.busy": "2024-08-31T18:02:20.625558Z",
     "iopub.status.idle": "2024-08-31T18:02:20.630946Z",
     "shell.execute_reply": "2024-08-31T18:02:20.629764Z"
    },
    "papermill": {
     "duration": 0.017659,
     "end_time": "2024-08-31T18:02:20.633555",
     "exception": false,
     "start_time": "2024-08-31T18:02:20.615896",
     "status": "completed"
    },
    "tags": []
   },
   "outputs": [],
   "source": [
    "# Your code here to find the table name"
   ]
  },
  {
   "cell_type": "code",
   "execution_count": 4,
   "id": "4aa1c28e",
   "metadata": {
    "execution": {
     "iopub.execute_input": "2024-08-31T18:02:20.651759Z",
     "iopub.status.busy": "2024-08-31T18:02:20.651236Z",
     "iopub.status.idle": "2024-08-31T18:02:21.244126Z",
     "shell.execute_reply": "2024-08-31T18:02:21.242892Z"
    },
    "papermill": {
     "duration": 0.605225,
     "end_time": "2024-08-31T18:02:21.246646",
     "exception": false,
     "start_time": "2024-08-31T18:02:20.641421",
     "status": "completed"
    },
    "tags": []
   },
   "outputs": [
    {
     "name": "stdout",
     "output_type": "stream",
     "text": [
      "taxi_trips\n"
     ]
    },
    {
     "data": {
      "application/javascript": [
       "parent.postMessage({\"jupyterEvent\": \"custom.exercise_interaction\", \"data\": {\"outcomeType\": 1, \"valueTowardsCompletion\": 0.16666666666666666, \"interactionType\": 1, \"questionType\": 1, \"questionId\": \"1_GetTableName\", \"learnToolsVersion\": \"0.3.4\", \"failureMessage\": \"\", \"exceptionClass\": \"\", \"trace\": \"\"}}, \"*\")"
      ],
      "text/plain": [
       "<IPython.core.display.Javascript object>"
      ]
     },
     "metadata": {},
     "output_type": "display_data"
    },
    {
     "data": {
      "text/markdown": [
       "<span style=\"color:#33cc33\">Correct</span>"
      ],
      "text/plain": [
       "Correct"
      ]
     },
     "metadata": {},
     "output_type": "display_data"
    }
   ],
   "source": [
    "# Write the table name as a string below\n",
    "tables = list(client.list_tables(dataset))\n",
    "\n",
    "# Print names of all tables in the dataset (there is only one!)\n",
    "for table in tables:  \n",
    "    print(table.table_id)\n",
    "\n",
    "table_name = 'taxi_trips'\n",
    "\n",
    "# Check your answer\n",
    "q_1.check()"
   ]
  },
  {
   "cell_type": "markdown",
   "id": "267d429f",
   "metadata": {
    "papermill": {
     "duration": 0.007645,
     "end_time": "2024-08-31T18:02:21.261794",
     "exception": false,
     "start_time": "2024-08-31T18:02:21.254149",
     "status": "completed"
    },
    "tags": []
   },
   "source": [
    "For the solution, uncomment the line below."
   ]
  },
  {
   "cell_type": "code",
   "execution_count": 5,
   "id": "c1522d8d",
   "metadata": {
    "execution": {
     "iopub.execute_input": "2024-08-31T18:02:21.279349Z",
     "iopub.status.busy": "2024-08-31T18:02:21.278870Z",
     "iopub.status.idle": "2024-08-31T18:02:21.284374Z",
     "shell.execute_reply": "2024-08-31T18:02:21.282995Z"
    },
    "papermill": {
     "duration": 0.017264,
     "end_time": "2024-08-31T18:02:21.287112",
     "exception": false,
     "start_time": "2024-08-31T18:02:21.269848",
     "status": "completed"
    },
    "tags": []
   },
   "outputs": [],
   "source": [
    "#q_1.solution()"
   ]
  },
  {
   "cell_type": "markdown",
   "id": "5d01b66c",
   "metadata": {
    "papermill": {
     "duration": 0.007384,
     "end_time": "2024-08-31T18:02:21.301988",
     "exception": false,
     "start_time": "2024-08-31T18:02:21.294604",
     "status": "completed"
    },
    "tags": []
   },
   "source": [
    "### 2) Peek at the data\n",
    "\n",
    "Use the next code cell to peek at the top few rows of the data. Inspect the data and see if any issues with data quality are immediately obvious. "
   ]
  },
  {
   "cell_type": "code",
   "execution_count": 6,
   "id": "edc6711b",
   "metadata": {
    "execution": {
     "iopub.execute_input": "2024-08-31T18:02:21.319269Z",
     "iopub.status.busy": "2024-08-31T18:02:21.318826Z",
     "iopub.status.idle": "2024-08-31T18:02:22.530237Z",
     "shell.execute_reply": "2024-08-31T18:02:22.529016Z"
    },
    "papermill": {
     "duration": 1.222902,
     "end_time": "2024-08-31T18:02:22.532568",
     "exception": false,
     "start_time": "2024-08-31T18:02:21.309666",
     "status": "completed"
    },
    "tags": []
   },
   "outputs": [
    {
     "data": {
      "text/html": [
       "<div>\n",
       "<style scoped>\n",
       "    .dataframe tbody tr th:only-of-type {\n",
       "        vertical-align: middle;\n",
       "    }\n",
       "\n",
       "    .dataframe tbody tr th {\n",
       "        vertical-align: top;\n",
       "    }\n",
       "\n",
       "    .dataframe thead th {\n",
       "        text-align: right;\n",
       "    }\n",
       "</style>\n",
       "<table border=\"1\" class=\"dataframe\">\n",
       "  <thead>\n",
       "    <tr style=\"text-align: right;\">\n",
       "      <th></th>\n",
       "      <th>unique_key</th>\n",
       "      <th>taxi_id</th>\n",
       "      <th>trip_start_timestamp</th>\n",
       "      <th>trip_end_timestamp</th>\n",
       "      <th>trip_seconds</th>\n",
       "      <th>trip_miles</th>\n",
       "      <th>pickup_census_tract</th>\n",
       "      <th>dropoff_census_tract</th>\n",
       "      <th>pickup_community_area</th>\n",
       "      <th>dropoff_community_area</th>\n",
       "      <th>...</th>\n",
       "      <th>extras</th>\n",
       "      <th>trip_total</th>\n",
       "      <th>payment_type</th>\n",
       "      <th>company</th>\n",
       "      <th>pickup_latitude</th>\n",
       "      <th>pickup_longitude</th>\n",
       "      <th>pickup_location</th>\n",
       "      <th>dropoff_latitude</th>\n",
       "      <th>dropoff_longitude</th>\n",
       "      <th>dropoff_location</th>\n",
       "    </tr>\n",
       "  </thead>\n",
       "  <tbody>\n",
       "    <tr>\n",
       "      <th>0</th>\n",
       "      <td>d788df249976d016763ead494f53bf262c7ea4aa</td>\n",
       "      <td>389f01c14b097ed951468ff163ccc71ebcb99a27e523e9...</td>\n",
       "      <td>2014-05-09 22:45:00+00:00</td>\n",
       "      <td>2014-05-09 22:45:00+00:00</td>\n",
       "      <td>60</td>\n",
       "      <td>0.0</td>\n",
       "      <td>NaN</td>\n",
       "      <td>NaN</td>\n",
       "      <td>NaN</td>\n",
       "      <td>NaN</td>\n",
       "      <td>...</td>\n",
       "      <td>NaN</td>\n",
       "      <td>NaN</td>\n",
       "      <td>Cash</td>\n",
       "      <td>None</td>\n",
       "      <td>NaN</td>\n",
       "      <td>NaN</td>\n",
       "      <td>None</td>\n",
       "      <td>NaN</td>\n",
       "      <td>NaN</td>\n",
       "      <td>None</td>\n",
       "    </tr>\n",
       "    <tr>\n",
       "      <th>1</th>\n",
       "      <td>18b092309dff1fa8298b21f8dfb9be19124363c4</td>\n",
       "      <td>193f49f2e6f3c31a0058bb26e322f818043e6d64ff80a9...</td>\n",
       "      <td>2014-06-07 23:15:00+00:00</td>\n",
       "      <td>2014-06-07 23:15:00+00:00</td>\n",
       "      <td>0</td>\n",
       "      <td>0.0</td>\n",
       "      <td>1.703182e+10</td>\n",
       "      <td>1.703182e+10</td>\n",
       "      <td>NaN</td>\n",
       "      <td>NaN</td>\n",
       "      <td>...</td>\n",
       "      <td>NaN</td>\n",
       "      <td>NaN</td>\n",
       "      <td>Cash</td>\n",
       "      <td>None</td>\n",
       "      <td>NaN</td>\n",
       "      <td>NaN</td>\n",
       "      <td>None</td>\n",
       "      <td>NaN</td>\n",
       "      <td>NaN</td>\n",
       "      <td>None</td>\n",
       "    </tr>\n",
       "    <tr>\n",
       "      <th>2</th>\n",
       "      <td>7b0601c2eaeccb6c7629f48858a007afea2e98e4</td>\n",
       "      <td>2cb7deb7674470467d31b1bba4657ab1c44c1feebf6274...</td>\n",
       "      <td>2014-04-16 15:30:00+00:00</td>\n",
       "      <td>2014-04-16 15:30:00+00:00</td>\n",
       "      <td>0</td>\n",
       "      <td>0.0</td>\n",
       "      <td>NaN</td>\n",
       "      <td>NaN</td>\n",
       "      <td>NaN</td>\n",
       "      <td>77.0</td>\n",
       "      <td>...</td>\n",
       "      <td>NaN</td>\n",
       "      <td>NaN</td>\n",
       "      <td>Credit Card</td>\n",
       "      <td>None</td>\n",
       "      <td>NaN</td>\n",
       "      <td>NaN</td>\n",
       "      <td>None</td>\n",
       "      <td>41.986712</td>\n",
       "      <td>-87.663416</td>\n",
       "      <td>POINT (-87.6634164054 41.9867117999)</td>\n",
       "    </tr>\n",
       "    <tr>\n",
       "      <th>3</th>\n",
       "      <td>0e1861cfb146b9e1b8b773b5be89f69cee92a0fc</td>\n",
       "      <td>e055c27835840cb1b08c8f68e20066307ab235a02fe7bd...</td>\n",
       "      <td>2014-04-25 14:15:00+00:00</td>\n",
       "      <td>2014-04-25 14:15:00+00:00</td>\n",
       "      <td>0</td>\n",
       "      <td>0.0</td>\n",
       "      <td>NaN</td>\n",
       "      <td>NaN</td>\n",
       "      <td>NaN</td>\n",
       "      <td>NaN</td>\n",
       "      <td>...</td>\n",
       "      <td>NaN</td>\n",
       "      <td>NaN</td>\n",
       "      <td>Credit Card</td>\n",
       "      <td>None</td>\n",
       "      <td>NaN</td>\n",
       "      <td>NaN</td>\n",
       "      <td>None</td>\n",
       "      <td>NaN</td>\n",
       "      <td>NaN</td>\n",
       "      <td>None</td>\n",
       "    </tr>\n",
       "    <tr>\n",
       "      <th>4</th>\n",
       "      <td>f8583c9d5d9fde21f8bcdd7b3ed0439c21a7fd88</td>\n",
       "      <td>e055c27835840cb1b08c8f68e20066307ab235a02fe7bd...</td>\n",
       "      <td>2014-04-25 14:15:00+00:00</td>\n",
       "      <td>2014-04-25 14:15:00+00:00</td>\n",
       "      <td>60</td>\n",
       "      <td>0.0</td>\n",
       "      <td>NaN</td>\n",
       "      <td>NaN</td>\n",
       "      <td>NaN</td>\n",
       "      <td>NaN</td>\n",
       "      <td>...</td>\n",
       "      <td>NaN</td>\n",
       "      <td>NaN</td>\n",
       "      <td>Credit Card</td>\n",
       "      <td>None</td>\n",
       "      <td>NaN</td>\n",
       "      <td>NaN</td>\n",
       "      <td>None</td>\n",
       "      <td>NaN</td>\n",
       "      <td>NaN</td>\n",
       "      <td>None</td>\n",
       "    </tr>\n",
       "  </tbody>\n",
       "</table>\n",
       "<p>5 rows × 23 columns</p>\n",
       "</div>"
      ],
      "text/plain": [
       "                                 unique_key  \\\n",
       "0  d788df249976d016763ead494f53bf262c7ea4aa   \n",
       "1  18b092309dff1fa8298b21f8dfb9be19124363c4   \n",
       "2  7b0601c2eaeccb6c7629f48858a007afea2e98e4   \n",
       "3  0e1861cfb146b9e1b8b773b5be89f69cee92a0fc   \n",
       "4  f8583c9d5d9fde21f8bcdd7b3ed0439c21a7fd88   \n",
       "\n",
       "                                             taxi_id  \\\n",
       "0  389f01c14b097ed951468ff163ccc71ebcb99a27e523e9...   \n",
       "1  193f49f2e6f3c31a0058bb26e322f818043e6d64ff80a9...   \n",
       "2  2cb7deb7674470467d31b1bba4657ab1c44c1feebf6274...   \n",
       "3  e055c27835840cb1b08c8f68e20066307ab235a02fe7bd...   \n",
       "4  e055c27835840cb1b08c8f68e20066307ab235a02fe7bd...   \n",
       "\n",
       "       trip_start_timestamp        trip_end_timestamp  trip_seconds  \\\n",
       "0 2014-05-09 22:45:00+00:00 2014-05-09 22:45:00+00:00            60   \n",
       "1 2014-06-07 23:15:00+00:00 2014-06-07 23:15:00+00:00             0   \n",
       "2 2014-04-16 15:30:00+00:00 2014-04-16 15:30:00+00:00             0   \n",
       "3 2014-04-25 14:15:00+00:00 2014-04-25 14:15:00+00:00             0   \n",
       "4 2014-04-25 14:15:00+00:00 2014-04-25 14:15:00+00:00            60   \n",
       "\n",
       "   trip_miles  pickup_census_tract  dropoff_census_tract  \\\n",
       "0         0.0                  NaN                   NaN   \n",
       "1         0.0         1.703182e+10          1.703182e+10   \n",
       "2         0.0                  NaN                   NaN   \n",
       "3         0.0                  NaN                   NaN   \n",
       "4         0.0                  NaN                   NaN   \n",
       "\n",
       "   pickup_community_area  dropoff_community_area  ...  extras  trip_total  \\\n",
       "0                    NaN                     NaN  ...     NaN         NaN   \n",
       "1                    NaN                     NaN  ...     NaN         NaN   \n",
       "2                    NaN                    77.0  ...     NaN         NaN   \n",
       "3                    NaN                     NaN  ...     NaN         NaN   \n",
       "4                    NaN                     NaN  ...     NaN         NaN   \n",
       "\n",
       "   payment_type  company  pickup_latitude pickup_longitude pickup_location  \\\n",
       "0          Cash     None              NaN              NaN            None   \n",
       "1          Cash     None              NaN              NaN            None   \n",
       "2   Credit Card     None              NaN              NaN            None   \n",
       "3   Credit Card     None              NaN              NaN            None   \n",
       "4   Credit Card     None              NaN              NaN            None   \n",
       "\n",
       "   dropoff_latitude  dropoff_longitude                      dropoff_location  \n",
       "0               NaN                NaN                                  None  \n",
       "1               NaN                NaN                                  None  \n",
       "2         41.986712         -87.663416  POINT (-87.6634164054 41.9867117999)  \n",
       "3               NaN                NaN                                  None  \n",
       "4               NaN                NaN                                  None  \n",
       "\n",
       "[5 rows x 23 columns]"
      ]
     },
     "execution_count": 6,
     "metadata": {},
     "output_type": "execute_result"
    }
   ],
   "source": [
    "# Your code here\n",
    "table_ref = dataset_ref.table(\"taxi_trips\")\n",
    "\n",
    "# API request - fetch the table\n",
    "table = client.get_table(table_ref)\n",
    "\n",
    "# Preview the first five lines of the \"taxi_trips\" table\n",
    "client.list_rows(table, max_results=5).to_dataframe()"
   ]
  },
  {
   "cell_type": "markdown",
   "id": "c4e8013d",
   "metadata": {
    "papermill": {
     "duration": 0.008081,
     "end_time": "2024-08-31T18:02:22.548464",
     "exception": false,
     "start_time": "2024-08-31T18:02:22.540383",
     "status": "completed"
    },
    "tags": []
   },
   "source": [
    "After deciding whether you see any important issues, run the code cell below."
   ]
  },
  {
   "cell_type": "code",
   "execution_count": 7,
   "id": "024a6f74",
   "metadata": {
    "execution": {
     "iopub.execute_input": "2024-08-31T18:02:22.567156Z",
     "iopub.status.busy": "2024-08-31T18:02:22.566717Z",
     "iopub.status.idle": "2024-08-31T18:02:22.572070Z",
     "shell.execute_reply": "2024-08-31T18:02:22.570756Z"
    },
    "papermill": {
     "duration": 0.018412,
     "end_time": "2024-08-31T18:02:22.574616",
     "exception": false,
     "start_time": "2024-08-31T18:02:22.556204",
     "status": "completed"
    },
    "tags": []
   },
   "outputs": [],
   "source": [
    "# Check your answer (Run this code cell to receive credit!)\n",
    "#q_2.solution()"
   ]
  },
  {
   "cell_type": "markdown",
   "id": "85e7e079",
   "metadata": {
    "papermill": {
     "duration": 0.010262,
     "end_time": "2024-08-31T18:02:22.599416",
     "exception": false,
     "start_time": "2024-08-31T18:02:22.589154",
     "status": "completed"
    },
    "tags": []
   },
   "source": [
    "### 3) Determine when this data is from\n",
    "\n",
    "If the data is sufficiently old, we might be careful before assuming the data is still relevant to traffic patterns today. Write a query that counts the number of trips in each year.  \n",
    "\n",
    "Your results should have two columns:\n",
    "- `year` - the year of the trips\n",
    "- `num_trips` - the number of trips in that year\n",
    "\n",
    "Hints:\n",
    "- When using **GROUP BY** and **ORDER BY**, you should refer to the columns by the alias `year` that you set at the top of the **SELECT** query.\n",
    "- The SQL code to **SELECT** the year from `trip_start_timestamp` is <code>SELECT EXTRACT(YEAR FROM trip_start_timestamp)</code>\n",
    "- The **FROM** field can be a little tricky until you are used to it.  The format is:\n",
    "    1. A backick (the symbol \\`).\n",
    "    2. The project name. In this case it is `bigquery-public-data`.\n",
    "    3. A period.\n",
    "    4. The dataset name. In this case, it is `chicago_taxi_trips`.\n",
    "    5. A period.\n",
    "    6. The table name. You used this as your answer in **1) Find the data**.\n",
    "    7. A backtick (the symbol \\`)."
   ]
  },
  {
   "cell_type": "code",
   "execution_count": 8,
   "id": "04a10fb8",
   "metadata": {
    "execution": {
     "iopub.execute_input": "2024-08-31T18:02:22.622652Z",
     "iopub.status.busy": "2024-08-31T18:02:22.622082Z",
     "iopub.status.idle": "2024-08-31T18:02:24.662505Z",
     "shell.execute_reply": "2024-08-31T18:02:24.661213Z"
    },
    "papermill": {
     "duration": 2.056729,
     "end_time": "2024-08-31T18:02:24.665246",
     "exception": false,
     "start_time": "2024-08-31T18:02:22.608517",
     "status": "completed"
    },
    "tags": []
   },
   "outputs": [
    {
     "data": {
      "application/javascript": [
       "parent.postMessage({\"jupyterEvent\": \"custom.exercise_interaction\", \"data\": {\"outcomeType\": 1, \"valueTowardsCompletion\": 0.16666666666666666, \"interactionType\": 1, \"questionType\": 2, \"questionId\": \"3_YearDistrib\", \"learnToolsVersion\": \"0.3.4\", \"failureMessage\": \"\", \"exceptionClass\": \"\", \"trace\": \"\"}}, \"*\")"
      ],
      "text/plain": [
       "<IPython.core.display.Javascript object>"
      ]
     },
     "metadata": {},
     "output_type": "display_data"
    },
    {
     "data": {
      "text/markdown": [
       "<span style=\"color:#33cc33\">Correct</span>"
      ],
      "text/plain": [
       "Correct"
      ]
     },
     "metadata": {},
     "output_type": "display_data"
    }
   ],
   "source": [
    "# Your code goes here\n",
    "\n",
    "rides_per_year_query = \"\"\"\n",
    "                       SELECT EXTRACT(YEAR FROM trip_start_timestamp) AS year, \n",
    "                              COUNT(1) AS num_trips\n",
    "                       FROM `bigquery-public-data.chicago_taxi_trips.taxi_trips`\n",
    "                       GROUP BY year\n",
    "                       ORDER BY year\n",
    "                       \"\"\"\n",
    "\n",
    "# Set up the query (cancel the query if it would use too much of \n",
    "# your quota)\n",
    "safe_config = bigquery.QueryJobConfig(maximum_bytes_billed=10**10)\n",
    "rides_per_year_query_job = client.query(rides_per_year_query, job_config=safe_config)\n",
    "\n",
    "# API request - run the query, and return a pandas DataFrame\n",
    "rides_per_year_result = rides_per_year_query_job.to_dataframe()\n",
    "\n",
    "# Check your answer\n",
    "q_3.check()"
   ]
  },
  {
   "cell_type": "markdown",
   "id": "3790646b",
   "metadata": {
    "papermill": {
     "duration": 0.007793,
     "end_time": "2024-08-31T18:02:24.681551",
     "exception": false,
     "start_time": "2024-08-31T18:02:24.673758",
     "status": "completed"
    },
    "tags": []
   },
   "source": [
    "For a hint or the solution, uncomment the appropriate line below."
   ]
  },
  {
   "cell_type": "code",
   "execution_count": 9,
   "id": "fb1e2569",
   "metadata": {
    "execution": {
     "iopub.execute_input": "2024-08-31T18:02:24.699807Z",
     "iopub.status.busy": "2024-08-31T18:02:24.699351Z",
     "iopub.status.idle": "2024-08-31T18:02:24.704167Z",
     "shell.execute_reply": "2024-08-31T18:02:24.703034Z"
    },
    "papermill": {
     "duration": 0.016992,
     "end_time": "2024-08-31T18:02:24.706692",
     "exception": false,
     "start_time": "2024-08-31T18:02:24.689700",
     "status": "completed"
    },
    "tags": []
   },
   "outputs": [],
   "source": [
    "#q_3.hint()\n",
    "#q_3.solution()"
   ]
  },
  {
   "cell_type": "markdown",
   "id": "f24613b9",
   "metadata": {
    "papermill": {
     "duration": 0.007827,
     "end_time": "2024-08-31T18:02:24.723401",
     "exception": false,
     "start_time": "2024-08-31T18:02:24.715574",
     "status": "completed"
    },
    "tags": []
   },
   "source": [
    "### 4) Dive slightly deeper\n",
    "\n",
    "You'd like to take a closer look at rides from 2016.  Copy the query you used above in `rides_per_year_query` into the cell below for `rides_per_month_query`.  Then modify it in two ways:\n",
    "1. Use a **WHERE** clause to limit the query to data from 2016.\n",
    "2. Modify the query to extract the month rather than the year."
   ]
  },
  {
   "cell_type": "code",
   "execution_count": 10,
   "id": "c004e08e",
   "metadata": {
    "execution": {
     "iopub.execute_input": "2024-08-31T18:02:24.741227Z",
     "iopub.status.busy": "2024-08-31T18:02:24.740782Z",
     "iopub.status.idle": "2024-08-31T18:02:26.388199Z",
     "shell.execute_reply": "2024-08-31T18:02:26.386887Z"
    },
    "papermill": {
     "duration": 1.659419,
     "end_time": "2024-08-31T18:02:26.390678",
     "exception": false,
     "start_time": "2024-08-31T18:02:24.731259",
     "status": "completed"
    },
    "tags": []
   },
   "outputs": [
    {
     "name": "stdout",
     "output_type": "stream",
     "text": [
      "Using Kaggle's public dataset BigQuery integration.\n",
      "    month  num_trips\n",
      "0       1    2510389\n",
      "1       2    2568433\n",
      "2       3    2851106\n",
      "3       4    2854290\n",
      "4       5    2859147\n",
      "5       6    2841872\n",
      "6       7    2682912\n",
      "7       8    2629482\n",
      "8       9    2532650\n",
      "9      10    2725340\n",
      "10     11    2387790\n",
      "11     12    2312992\n"
     ]
    },
    {
     "data": {
      "application/javascript": [
       "parent.postMessage({\"jupyterEvent\": \"custom.exercise_interaction\", \"data\": {\"outcomeType\": 1, \"valueTowardsCompletion\": 0.16666666666666666, \"interactionType\": 1, \"questionType\": 2, \"questionId\": \"4_MonthDistrib\", \"learnToolsVersion\": \"0.3.4\", \"failureMessage\": \"\", \"exceptionClass\": \"\", \"trace\": \"\"}}, \"*\")"
      ],
      "text/plain": [
       "<IPython.core.display.Javascript object>"
      ]
     },
     "metadata": {},
     "output_type": "display_data"
    },
    {
     "data": {
      "text/markdown": [
       "<span style=\"color:#33cc33\">Correct</span>"
      ],
      "text/plain": [
       "Correct"
      ]
     },
     "metadata": {},
     "output_type": "display_data"
    }
   ],
   "source": [
    "from google.cloud import bigquery\n",
    "\n",
    "# Initialize the BigQuery client\n",
    "client = bigquery.Client()\n",
    "\n",
    "# Write the query to get the number of trips per month in 2016\n",
    "rides_per_month_query = \"\"\"\n",
    "    SELECT EXTRACT(MONTH FROM trip_start_timestamp) AS month, \n",
    "           COUNT(1) AS num_trips\n",
    "    FROM `bigquery-public-data.chicago_taxi_trips.taxi_trips`\n",
    "    WHERE EXTRACT(YEAR FROM trip_start_timestamp) = 2016\n",
    "    GROUP BY month\n",
    "    ORDER BY month\n",
    "\"\"\"\n",
    "\n",
    "# Set up the query with a maximum bytes billed limit (e.g., 10 GB)\n",
    "safe_config = bigquery.QueryJobConfig(maximum_bytes_billed=10**10)\n",
    "\n",
    "# Run the query and get the results in a pandas DataFrame\n",
    "rides_per_month_query_job = client.query(rides_per_month_query, job_config=safe_config)\n",
    "rides_per_month_result = rides_per_month_query_job.to_dataframe()\n",
    "\n",
    "# Display the results\n",
    "print(rides_per_month_result)\n",
    "\n",
    "q_4.check()"
   ]
  },
  {
   "cell_type": "markdown",
   "id": "60323432",
   "metadata": {
    "papermill": {
     "duration": 0.008577,
     "end_time": "2024-08-31T18:02:26.408063",
     "exception": false,
     "start_time": "2024-08-31T18:02:26.399486",
     "status": "completed"
    },
    "tags": []
   },
   "source": [
    "For a hint or the solution, uncomment the appropriate line below."
   ]
  },
  {
   "cell_type": "code",
   "execution_count": 11,
   "id": "490671ce",
   "metadata": {
    "execution": {
     "iopub.execute_input": "2024-08-31T18:02:26.426897Z",
     "iopub.status.busy": "2024-08-31T18:02:26.426450Z",
     "iopub.status.idle": "2024-08-31T18:02:26.432390Z",
     "shell.execute_reply": "2024-08-31T18:02:26.431075Z"
    },
    "papermill": {
     "duration": 0.018322,
     "end_time": "2024-08-31T18:02:26.434979",
     "exception": false,
     "start_time": "2024-08-31T18:02:26.416657",
     "status": "completed"
    },
    "tags": []
   },
   "outputs": [
    {
     "name": "stdout",
     "output_type": "stream",
     "text": [
      "QueryJob<project=kaggle-161607, location=US, id=8112df59-1f35-406e-98a5-6ba0cc8d09c6>\n"
     ]
    }
   ],
   "source": [
    "print(rides_per_month_query_job)\n"
   ]
  },
  {
   "cell_type": "code",
   "execution_count": 12,
   "id": "35554278",
   "metadata": {
    "execution": {
     "iopub.execute_input": "2024-08-31T18:02:26.454668Z",
     "iopub.status.busy": "2024-08-31T18:02:26.454233Z",
     "iopub.status.idle": "2024-08-31T18:02:26.459369Z",
     "shell.execute_reply": "2024-08-31T18:02:26.458170Z"
    },
    "papermill": {
     "duration": 0.018072,
     "end_time": "2024-08-31T18:02:26.461592",
     "exception": false,
     "start_time": "2024-08-31T18:02:26.443520",
     "status": "completed"
    },
    "tags": []
   },
   "outputs": [],
   "source": [
    "#q_4.hint()\n",
    "#q_4.solution()"
   ]
  },
  {
   "cell_type": "markdown",
   "id": "2fb9fe49",
   "metadata": {
    "papermill": {
     "duration": 0.00876,
     "end_time": "2024-08-31T18:02:26.478972",
     "exception": false,
     "start_time": "2024-08-31T18:02:26.470212",
     "status": "completed"
    },
    "tags": []
   },
   "source": [
    "### 5) Write the query\n",
    "\n",
    "It's time to step up the sophistication of your queries.  Write a query that shows, for each hour of the day in the dataset, the corresponding number of trips and average speed.\n",
    "\n",
    "Your results should have three columns:\n",
    "- `hour_of_day` - sort by this column, which holds the result of extracting the hour from `trip_start_timestamp`.\n",
    "- `num_trips` - the count of the total number of trips in each hour of the day (e.g. how many trips were started between 6AM and 7AM, independent of which day it occurred on).\n",
    "- `avg_mph` - the average speed, measured in miles per hour, for trips that started in that hour of the day.  Average speed in miles per hour is calculated as `3600 * SUM(trip_miles) / SUM(trip_seconds)`. (The value 3600 is used to convert from seconds to hours.)\n",
    "\n",
    "Restrict your query to data meeting the following criteria:\n",
    "- a `trip_start_timestamp` > **2016-01-01** and < **2016-04-01**\n",
    "- `trip_seconds` > 0 and `trip_miles` > 0\n",
    "\n",
    "You will use a common table expression (CTE) to select just the relevant rides.  Because this dataset is very big, this CTE should select only the columns you'll need to create the final output (though you won't actually create those in the CTE -- instead you'll create those in the later **SELECT** statement below the CTE).\n",
    "\n",
    "This is a much harder query than anything you've written so far.  Good luck!"
   ]
  },
  {
   "cell_type": "code",
   "execution_count": 13,
   "id": "d7abf933",
   "metadata": {
    "execution": {
     "iopub.execute_input": "2024-08-31T18:02:26.498365Z",
     "iopub.status.busy": "2024-08-31T18:02:26.497927Z",
     "iopub.status.idle": "2024-08-31T18:02:28.097916Z",
     "shell.execute_reply": "2024-08-31T18:02:28.096640Z"
    },
    "papermill": {
     "duration": 1.613069,
     "end_time": "2024-08-31T18:02:28.100552",
     "exception": false,
     "start_time": "2024-08-31T18:02:26.487483",
     "status": "completed"
    },
    "tags": []
   },
   "outputs": [
    {
     "name": "stdout",
     "output_type": "stream",
     "text": [
      "    hour_of_day  num_trips    avg_mph\n",
      "0             0     203092  20.191744\n",
      "1             1     178046  18.628598\n",
      "2             2     143447  18.444370\n",
      "3             3     108899  19.273107\n",
      "4             4      80067  27.599669\n",
      "5             5      75786  33.065604\n",
      "6             6     102254  28.533112\n",
      "7             7     187585  19.884592\n",
      "8             8     284223  16.787900\n",
      "9             9     306854  18.434124\n",
      "10           10     279762  20.091309\n",
      "11           11     294006  20.926340\n",
      "12           12     311522  20.063901\n",
      "13           13     317225  19.766321\n",
      "14           14     312629  19.309655\n",
      "15           15     319953  18.515564\n",
      "16           16     349455  17.168814\n",
      "17           17     394324  14.641375\n",
      "18           18     431991  15.381995\n",
      "19           19     416743  17.795008\n",
      "20           20     356279  20.347398\n",
      "21           21     318363  22.584731\n",
      "22           22     289886  21.129847\n",
      "23           23     241690  20.259757\n"
     ]
    },
    {
     "data": {
      "application/javascript": [
       "parent.postMessage({\"jupyterEvent\": \"custom.exercise_interaction\", \"data\": {\"outcomeType\": 1, \"valueTowardsCompletion\": 0.16666666666666666, \"interactionType\": 1, \"questionType\": 2, \"questionId\": \"5_TheLongQuery\", \"learnToolsVersion\": \"0.3.4\", \"failureMessage\": \"\", \"exceptionClass\": \"\", \"trace\": \"\"}}, \"*\")"
      ],
      "text/plain": [
       "<IPython.core.display.Javascript object>"
      ]
     },
     "metadata": {},
     "output_type": "display_data"
    },
    {
     "data": {
      "text/markdown": [
       "<span style=\"color:#33cc33\">Correct</span>"
      ],
      "text/plain": [
       "Correct"
      ]
     },
     "metadata": {},
     "output_type": "display_data"
    }
   ],
   "source": [
    "# Your code goes here\n",
    "speeds_query = \"\"\"\n",
    "               WITH RelevantRides AS\n",
    "               (\n",
    "                   SELECT EXTRACT(HOUR FROM trip_start_timestamp) AS hour_of_day, \n",
    "                          trip_miles, \n",
    "                          trip_seconds\n",
    "                   FROM `bigquery-public-data.chicago_taxi_trips.taxi_trips`\n",
    "                   WHERE trip_start_timestamp > '2016-01-01' AND \n",
    "                         trip_start_timestamp < '2016-04-01' AND \n",
    "                         trip_seconds > 0 AND \n",
    "                         trip_miles > 0\n",
    "               )\n",
    "               SELECT hour_of_day, \n",
    "                      COUNT(1) AS num_trips, \n",
    "                      3600 * SUM(trip_miles) / SUM(trip_seconds) AS avg_mph\n",
    "               FROM RelevantRides\n",
    "               GROUP BY hour_of_day\n",
    "               ORDER BY hour_of_day\n",
    "               \"\"\"\n",
    "\n",
    "# Set up the query (cancel the query if it would use too much of \n",
    "# your quota)\n",
    "safe_config = bigquery.QueryJobConfig(maximum_bytes_billed=10**10)\n",
    "speeds_query_job = client.query(speeds_query, job_config=safe_config)\n",
    "\n",
    "# API request - run the query, and return a pandas DataFrame\n",
    "speeds_result = speeds_query_job.to_dataframe()\n",
    "\n",
    "# View results\n",
    "print(speeds_result)\n",
    "\n",
    "# Check your answer\n",
    "q_5.check()"
   ]
  },
  {
   "cell_type": "markdown",
   "id": "9727b021",
   "metadata": {
    "papermill": {
     "duration": 0.008596,
     "end_time": "2024-08-31T18:02:28.117962",
     "exception": false,
     "start_time": "2024-08-31T18:02:28.109366",
     "status": "completed"
    },
    "tags": []
   },
   "source": [
    "For the solution, uncomment the appropriate line below."
   ]
  },
  {
   "cell_type": "code",
   "execution_count": 14,
   "id": "6971663b",
   "metadata": {
    "execution": {
     "iopub.execute_input": "2024-08-31T18:02:28.138131Z",
     "iopub.status.busy": "2024-08-31T18:02:28.137605Z",
     "iopub.status.idle": "2024-08-31T18:02:28.143523Z",
     "shell.execute_reply": "2024-08-31T18:02:28.142092Z"
    },
    "papermill": {
     "duration": 0.019273,
     "end_time": "2024-08-31T18:02:28.146401",
     "exception": false,
     "start_time": "2024-08-31T18:02:28.127128",
     "status": "completed"
    },
    "tags": []
   },
   "outputs": [],
   "source": [
    "#q_5.solution()"
   ]
  },
  {
   "cell_type": "markdown",
   "id": "8c333a6e",
   "metadata": {
    "papermill": {
     "duration": 0.009375,
     "end_time": "2024-08-31T18:02:28.165477",
     "exception": false,
     "start_time": "2024-08-31T18:02:28.156102",
     "status": "completed"
    },
    "tags": []
   },
   "source": [
    "That's a hard query. If you made good progress towards the solution, congratulations!"
   ]
  },
  {
   "cell_type": "markdown",
   "id": "d20d31a5",
   "metadata": {
    "papermill": {
     "duration": 0.008908,
     "end_time": "2024-08-31T18:02:28.183634",
     "exception": false,
     "start_time": "2024-08-31T18:02:28.174726",
     "status": "completed"
    },
    "tags": []
   },
   "source": [
    "# Keep going\n",
    "\n",
    "You can write very complex queries now with a single data source. But nothing expands the horizons of SQL as much as the ability to combine or **JOIN** tables.\n",
    "\n",
    "**[Click here](https://www.kaggle.com/dansbecker/joining-data)** to start the last lesson in the Intro to SQL course."
   ]
  },
  {
   "cell_type": "markdown",
   "id": "a7dc640b",
   "metadata": {
    "papermill": {
     "duration": 0.008596,
     "end_time": "2024-08-31T18:02:28.201262",
     "exception": false,
     "start_time": "2024-08-31T18:02:28.192666",
     "status": "completed"
    },
    "tags": []
   },
   "source": [
    "---\n",
    "\n",
    "\n",
    "\n",
    "\n",
    "*Have questions or comments? Visit the [course discussion forum](https://www.kaggle.com/learn/intro-to-sql/discussion) to chat with other learners.*"
   ]
  }
 ],
 "metadata": {
  "kaggle": {
   "accelerator": "none",
   "dataSources": [
    {
     "datasetId": 22219,
     "sourceId": 28536,
     "sourceType": "datasetVersion"
    },
    {
     "datasetId": 11496,
     "sourceId": 285947,
     "sourceType": "datasetVersion"
    }
   ],
   "isGpuEnabled": false,
   "isInternetEnabled": true,
   "language": "python",
   "sourceType": "notebook"
  },
  "kernelspec": {
   "display_name": "Python 3",
   "language": "python",
   "name": "python3"
  },
  "language_info": {
   "codemirror_mode": {
    "name": "ipython",
    "version": 3
   },
   "file_extension": ".py",
   "mimetype": "text/x-python",
   "name": "python",
   "nbconvert_exporter": "python",
   "pygments_lexer": "ipython3",
   "version": "3.10.14"
  },
  "papermill": {
   "default_parameters": {},
   "duration": 46.04045,
   "end_time": "2024-08-31T18:02:29.035129",
   "environment_variables": {},
   "exception": null,
   "input_path": "__notebook__.ipynb",
   "output_path": "__notebook__.ipynb",
   "parameters": {},
   "start_time": "2024-08-31T18:01:42.994679",
   "version": "2.6.0"
  }
 },
 "nbformat": 4,
 "nbformat_minor": 5
}
