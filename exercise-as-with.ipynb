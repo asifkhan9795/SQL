{
 "cells": [
  {
   "cell_type": "markdown",
   "id": "2e418239",
   "metadata": {
    "papermill": {
     "duration": 0.006385,
     "end_time": "2024-07-23T13:50:58.553044",
     "exception": false,
     "start_time": "2024-07-23T13:50:58.546659",
     "status": "completed"
    },
    "tags": []
   },
   "source": [
    "**This notebook is an exercise in the [SQL](https://www.kaggle.com/learn/intro-to-sql) course.  You can reference the tutorial at [this link](https://www.kaggle.com/dansbecker/as-with).**\n",
    "\n",
    "---\n"
   ]
  },
  {
   "cell_type": "markdown",
   "id": "ab7d4e53",
   "metadata": {
    "papermill": {
     "duration": 0.005715,
     "end_time": "2024-07-23T13:50:58.564836",
     "exception": false,
     "start_time": "2024-07-23T13:50:58.559121",
     "status": "completed"
    },
    "tags": []
   },
   "source": [
    "# Introduction\n",
    "\n",
    "You are getting to the point where you can own an analysis from beginning to end. So you'll do more data exploration in this exercise than you've done before.  Before you get started, run the following set-up code as usual. "
   ]
  },
  {
   "cell_type": "code",
   "execution_count": 1,
   "id": "ba48fc59",
   "metadata": {
    "execution": {
     "iopub.execute_input": "2024-07-23T13:50:58.578449Z",
     "iopub.status.busy": "2024-07-23T13:50:58.578016Z",
     "iopub.status.idle": "2024-07-23T13:51:32.240097Z",
     "shell.execute_reply": "2024-07-23T13:51:32.238862Z"
    },
    "papermill": {
     "duration": 33.677298,
     "end_time": "2024-07-23T13:51:32.248027",
     "exception": false,
     "start_time": "2024-07-23T13:50:58.570729",
     "status": "completed"
    },
    "tags": []
   },
   "outputs": [
    {
     "name": "stdout",
     "output_type": "stream",
     "text": [
      "Collecting git+https://github.com/Kaggle/learntools.git\r\n",
      "  Cloning https://github.com/Kaggle/learntools.git to /tmp/pip-req-build-kbp7d8mf\r\n",
      "  Running command git clone --filter=blob:none --quiet https://github.com/Kaggle/learntools.git /tmp/pip-req-build-kbp7d8mf\r\n",
      "  Resolved https://github.com/Kaggle/learntools.git to commit ca2a51ee0085e4943cadaf5e9fe7dce2ec947d3c\r\n",
      "  Preparing metadata (setup.py) ... \u001b[?25ldone\r\n",
      "\u001b[?25hBuilding wheels for collected packages: learntools\r\n",
      "  Building wheel for learntools (setup.py) ... \u001b[?25l-\b \bdone\r\n",
      "\u001b[?25h  Created wheel for learntools: filename=learntools-0.3.4-py3-none-any.whl size=268968 sha256=d04399a11e100d3c7a815f9742bb21fb03271a7848430361ecb5cc11b761b36e\r\n",
      "  Stored in directory: /tmp/pip-ephem-wheel-cache-2gbh8xlz/wheels/2f/6c/3c/aa9f50cfb5a862157cb4c7a5b34881828cf45404698255dced\r\n",
      "Successfully built learntools\r\n",
      "Installing collected packages: learntools\r\n",
      "Successfully installed learntools-0.3.4\r\n",
      "Using Kaggle's public dataset BigQuery integration.\n",
      "Setup Complete\n"
     ]
    }
   ],
   "source": [
    "# Get most recent checking code\n",
    "!pip install -U -t /kaggle/working/ git+https://github.com/Kaggle/learntools.git\n",
    "# Set up feedback system\n",
    "from learntools.core import binder\n",
    "binder.bind(globals())\n",
    "from learntools.sql.ex5 import *\n",
    "print(\"Setup Complete\")"
   ]
  },
  {
   "cell_type": "markdown",
   "id": "84232c0c",
   "metadata": {
    "papermill": {
     "duration": 0.006384,
     "end_time": "2024-07-23T13:51:32.260920",
     "exception": false,
     "start_time": "2024-07-23T13:51:32.254536",
     "status": "completed"
    },
    "tags": []
   },
   "source": [
    "You'll work with a dataset about taxi trips in the city of Chicago. Run the cell below to fetch the `chicago_taxi_trips` dataset."
   ]
  },
  {
   "cell_type": "code",
   "execution_count": 2,
   "id": "af34ecbf",
   "metadata": {
    "execution": {
     "iopub.execute_input": "2024-07-23T13:51:32.276025Z",
     "iopub.status.busy": "2024-07-23T13:51:32.275471Z",
     "iopub.status.idle": "2024-07-23T13:51:32.688560Z",
     "shell.execute_reply": "2024-07-23T13:51:32.687412Z"
    },
    "papermill": {
     "duration": 0.423581,
     "end_time": "2024-07-23T13:51:32.691112",
     "exception": false,
     "start_time": "2024-07-23T13:51:32.267531",
     "status": "completed"
    },
    "tags": []
   },
   "outputs": [
    {
     "name": "stdout",
     "output_type": "stream",
     "text": [
      "Using Kaggle's public dataset BigQuery integration.\n"
     ]
    }
   ],
   "source": [
    "from google.cloud import bigquery\n",
    "\n",
    "# Create a \"Client\" object\n",
    "client = bigquery.Client()\n",
    "\n",
    "# Construct a reference to the \"chicago_taxi_trips\" dataset\n",
    "dataset_ref = client.dataset(\"chicago_taxi_trips\", project=\"bigquery-public-data\")\n",
    "\n",
    "# API request - fetch the dataset\n",
    "dataset = client.get_dataset(dataset_ref)"
   ]
  },
  {
   "cell_type": "markdown",
   "id": "1cf9b8d7",
   "metadata": {
    "papermill": {
     "duration": 0.006647,
     "end_time": "2024-07-23T13:51:32.705074",
     "exception": false,
     "start_time": "2024-07-23T13:51:32.698427",
     "status": "completed"
    },
    "tags": []
   },
   "source": [
    "# Exercises\n",
    "\n",
    "You are curious how much slower traffic moves when traffic volume is high. This involves a few steps.\n",
    "\n",
    "### 1) Find the data\n",
    "Before you can access the data, you need to find the table name with the data.\n",
    "\n",
    "*Hint*: Tab completion is helpful whenever you can't remember a command. Type `client.` and then hit the tab key. Don't forget the period before hitting tab."
   ]
  },
  {
   "cell_type": "code",
   "execution_count": 3,
   "id": "3776c70d",
   "metadata": {
    "execution": {
     "iopub.execute_input": "2024-07-23T13:51:32.720875Z",
     "iopub.status.busy": "2024-07-23T13:51:32.720476Z",
     "iopub.status.idle": "2024-07-23T13:51:32.725874Z",
     "shell.execute_reply": "2024-07-23T13:51:32.724553Z"
    },
    "papermill": {
     "duration": 0.016023,
     "end_time": "2024-07-23T13:51:32.728404",
     "exception": false,
     "start_time": "2024-07-23T13:51:32.712381",
     "status": "completed"
    },
    "tags": []
   },
   "outputs": [],
   "source": [
    "# Your code here to find the table name"
   ]
  },
  {
   "cell_type": "code",
   "execution_count": 4,
   "id": "f4ce51c2",
   "metadata": {
    "execution": {
     "iopub.execute_input": "2024-07-23T13:51:32.743247Z",
     "iopub.status.busy": "2024-07-23T13:51:32.742905Z",
     "iopub.status.idle": "2024-07-23T13:51:33.413399Z",
     "shell.execute_reply": "2024-07-23T13:51:33.412299Z"
    },
    "papermill": {
     "duration": 0.680968,
     "end_time": "2024-07-23T13:51:33.416023",
     "exception": false,
     "start_time": "2024-07-23T13:51:32.735055",
     "status": "completed"
    },
    "tags": []
   },
   "outputs": [
    {
     "name": "stdout",
     "output_type": "stream",
     "text": [
      "taxi_trips\n"
     ]
    },
    {
     "data": {
      "application/javascript": [
       "parent.postMessage({\"jupyterEvent\": \"custom.exercise_interaction\", \"data\": {\"outcomeType\": 1, \"valueTowardsCompletion\": 0.16666666666666666, \"interactionType\": 1, \"questionType\": 1, \"questionId\": \"1_GetTableName\", \"learnToolsVersion\": \"0.3.4\", \"failureMessage\": \"\", \"exceptionClass\": \"\", \"trace\": \"\"}}, \"*\")"
      ],
      "text/plain": [
       "<IPython.core.display.Javascript object>"
      ]
     },
     "metadata": {},
     "output_type": "display_data"
    },
    {
     "data": {
      "text/markdown": [
       "<span style=\"color:#33cc33\">Correct</span>"
      ],
      "text/plain": [
       "Correct"
      ]
     },
     "metadata": {},
     "output_type": "display_data"
    }
   ],
   "source": [
    "# Write the table name as a string below\n",
    "tables = list(client.list_tables(dataset))\n",
    "\n",
    "# Print names of all tables in the dataset (there is only one!)\n",
    "for table in tables:  \n",
    "    print(table.table_id)\n",
    "\n",
    "table_name = 'taxi_trips'\n",
    "\n",
    "# Check your answer\n",
    "q_1.check()"
   ]
  },
  {
   "cell_type": "markdown",
   "id": "7bfc9645",
   "metadata": {
    "papermill": {
     "duration": 0.006796,
     "end_time": "2024-07-23T13:51:33.429878",
     "exception": false,
     "start_time": "2024-07-23T13:51:33.423082",
     "status": "completed"
    },
    "tags": []
   },
   "source": [
    "For the solution, uncomment the line below."
   ]
  },
  {
   "cell_type": "code",
   "execution_count": 5,
   "id": "d679e33b",
   "metadata": {
    "execution": {
     "iopub.execute_input": "2024-07-23T13:51:33.446146Z",
     "iopub.status.busy": "2024-07-23T13:51:33.445776Z",
     "iopub.status.idle": "2024-07-23T13:51:33.450446Z",
     "shell.execute_reply": "2024-07-23T13:51:33.449398Z"
    },
    "papermill": {
     "duration": 0.016057,
     "end_time": "2024-07-23T13:51:33.452919",
     "exception": false,
     "start_time": "2024-07-23T13:51:33.436862",
     "status": "completed"
    },
    "tags": []
   },
   "outputs": [],
   "source": [
    "#q_1.solution()"
   ]
  },
  {
   "cell_type": "markdown",
   "id": "be7add2a",
   "metadata": {
    "papermill": {
     "duration": 0.006873,
     "end_time": "2024-07-23T13:51:33.467194",
     "exception": false,
     "start_time": "2024-07-23T13:51:33.460321",
     "status": "completed"
    },
    "tags": []
   },
   "source": [
    "### 2) Peek at the data\n",
    "\n",
    "Use the next code cell to peek at the top few rows of the data. Inspect the data and see if any issues with data quality are immediately obvious. "
   ]
  },
  {
   "cell_type": "code",
   "execution_count": 6,
   "id": "d7aa89f9",
   "metadata": {
    "execution": {
     "iopub.execute_input": "2024-07-23T13:51:33.484212Z",
     "iopub.status.busy": "2024-07-23T13:51:33.483837Z",
     "iopub.status.idle": "2024-07-23T13:51:35.154303Z",
     "shell.execute_reply": "2024-07-23T13:51:35.152774Z"
    },
    "papermill": {
     "duration": 1.682998,
     "end_time": "2024-07-23T13:51:35.157312",
     "exception": false,
     "start_time": "2024-07-23T13:51:33.474314",
     "status": "completed"
    },
    "tags": []
   },
   "outputs": [
    {
     "data": {
      "text/html": [
       "<div>\n",
       "<style scoped>\n",
       "    .dataframe tbody tr th:only-of-type {\n",
       "        vertical-align: middle;\n",
       "    }\n",
       "\n",
       "    .dataframe tbody tr th {\n",
       "        vertical-align: top;\n",
       "    }\n",
       "\n",
       "    .dataframe thead th {\n",
       "        text-align: right;\n",
       "    }\n",
       "</style>\n",
       "<table border=\"1\" class=\"dataframe\">\n",
       "  <thead>\n",
       "    <tr style=\"text-align: right;\">\n",
       "      <th></th>\n",
       "      <th>unique_key</th>\n",
       "      <th>taxi_id</th>\n",
       "      <th>trip_start_timestamp</th>\n",
       "      <th>trip_end_timestamp</th>\n",
       "      <th>trip_seconds</th>\n",
       "      <th>trip_miles</th>\n",
       "      <th>pickup_census_tract</th>\n",
       "      <th>dropoff_census_tract</th>\n",
       "      <th>pickup_community_area</th>\n",
       "      <th>dropoff_community_area</th>\n",
       "      <th>...</th>\n",
       "      <th>extras</th>\n",
       "      <th>trip_total</th>\n",
       "      <th>payment_type</th>\n",
       "      <th>company</th>\n",
       "      <th>pickup_latitude</th>\n",
       "      <th>pickup_longitude</th>\n",
       "      <th>pickup_location</th>\n",
       "      <th>dropoff_latitude</th>\n",
       "      <th>dropoff_longitude</th>\n",
       "      <th>dropoff_location</th>\n",
       "    </tr>\n",
       "  </thead>\n",
       "  <tbody>\n",
       "    <tr>\n",
       "      <th>0</th>\n",
       "      <td>ca2943325bb86524ccb494a82c4361e2e59d94b9</td>\n",
       "      <td>4ab868a2a19b95f50f355eb8d0d7638f1912b37f49ebd6...</td>\n",
       "      <td>2013-04-14 14:45:00+00:00</td>\n",
       "      <td>2013-04-14 15:00:00+00:00</td>\n",
       "      <td>660</td>\n",
       "      <td>0.0</td>\n",
       "      <td>NaN</td>\n",
       "      <td>NaN</td>\n",
       "      <td>14</td>\n",
       "      <td>14</td>\n",
       "      <td>...</td>\n",
       "      <td>0.0</td>\n",
       "      <td>6.85</td>\n",
       "      <td>Cash</td>\n",
       "      <td>Blue Ribbon Taxi Association Inc.</td>\n",
       "      <td>41.968069</td>\n",
       "      <td>-87.721559</td>\n",
       "      <td>POINT (-87.7215590627 41.968069)</td>\n",
       "      <td>41.968069</td>\n",
       "      <td>-87.721559</td>\n",
       "      <td>POINT (-87.7215590627 41.968069)</td>\n",
       "    </tr>\n",
       "    <tr>\n",
       "      <th>1</th>\n",
       "      <td>65772aeff3599d099f040068b9b7cd4491aea5b6</td>\n",
       "      <td>6682944f2b37609761181033253037c05fed4377e8b649...</td>\n",
       "      <td>2013-05-12 20:15:00+00:00</td>\n",
       "      <td>2013-05-12 20:30:00+00:00</td>\n",
       "      <td>240</td>\n",
       "      <td>0.9</td>\n",
       "      <td>NaN</td>\n",
       "      <td>NaN</td>\n",
       "      <td>41</td>\n",
       "      <td>41</td>\n",
       "      <td>...</td>\n",
       "      <td>1.0</td>\n",
       "      <td>6.05</td>\n",
       "      <td>Cash</td>\n",
       "      <td>Northwest Management LLC</td>\n",
       "      <td>41.794090</td>\n",
       "      <td>-87.592311</td>\n",
       "      <td>POINT (-87.592310855 41.794090253)</td>\n",
       "      <td>41.794090</td>\n",
       "      <td>-87.592311</td>\n",
       "      <td>POINT (-87.592310855 41.794090253)</td>\n",
       "    </tr>\n",
       "    <tr>\n",
       "      <th>2</th>\n",
       "      <td>be9aee48bd3bc2e919ad76956c94e0bc420366f1</td>\n",
       "      <td>af5b394cb22984f667fc0a9cc30e0277cb9edf50f14747...</td>\n",
       "      <td>2013-04-17 01:45:00+00:00</td>\n",
       "      <td>2013-04-17 02:00:00+00:00</td>\n",
       "      <td>780</td>\n",
       "      <td>0.0</td>\n",
       "      <td>1.703184e+10</td>\n",
       "      <td>1.703124e+10</td>\n",
       "      <td>28</td>\n",
       "      <td>24</td>\n",
       "      <td>...</td>\n",
       "      <td>1.5</td>\n",
       "      <td>12.95</td>\n",
       "      <td>Cash</td>\n",
       "      <td>Dispatch Taxi Affiliation</td>\n",
       "      <td>41.867902</td>\n",
       "      <td>-87.642959</td>\n",
       "      <td>POINT (-87.6429586652 41.8679024175)</td>\n",
       "      <td>41.906026</td>\n",
       "      <td>-87.675312</td>\n",
       "      <td>POINT (-87.6753116216 41.906025969)</td>\n",
       "    </tr>\n",
       "    <tr>\n",
       "      <th>3</th>\n",
       "      <td>e1a250fcf325056fd51fe87e655f2ee15acd4599</td>\n",
       "      <td>4de82fc17cb23f745931085fbbb3b4f920550cda576979...</td>\n",
       "      <td>2013-04-14 14:30:00+00:00</td>\n",
       "      <td>2013-04-14 14:45:00+00:00</td>\n",
       "      <td>360</td>\n",
       "      <td>1.2</td>\n",
       "      <td>1.703107e+10</td>\n",
       "      <td>1.703183e+10</td>\n",
       "      <td>7</td>\n",
       "      <td>6</td>\n",
       "      <td>...</td>\n",
       "      <td>0.0</td>\n",
       "      <td>6.05</td>\n",
       "      <td>Cash</td>\n",
       "      <td>Dispatch Taxi Affiliation</td>\n",
       "      <td>41.930579</td>\n",
       "      <td>-87.642206</td>\n",
       "      <td>POINT (-87.6422063127 41.9305785697)</td>\n",
       "      <td>41.946295</td>\n",
       "      <td>-87.654298</td>\n",
       "      <td>POINT (-87.6542980837 41.9462945357)</td>\n",
       "    </tr>\n",
       "    <tr>\n",
       "      <th>4</th>\n",
       "      <td>40c021586099a8bb48795aebbb601384304eb60e</td>\n",
       "      <td>486a31c847d3de20267c610f8de52bdd13c696a8a22bcb...</td>\n",
       "      <td>2013-04-21 02:15:00+00:00</td>\n",
       "      <td>2013-04-21 02:15:00+00:00</td>\n",
       "      <td>360</td>\n",
       "      <td>0.0</td>\n",
       "      <td>1.703107e+10</td>\n",
       "      <td>1.703107e+10</td>\n",
       "      <td>7</td>\n",
       "      <td>7</td>\n",
       "      <td>...</td>\n",
       "      <td>2.0</td>\n",
       "      <td>7.25</td>\n",
       "      <td>Cash</td>\n",
       "      <td>Dispatch Taxi Affiliation</td>\n",
       "      <td>41.929263</td>\n",
       "      <td>-87.635891</td>\n",
       "      <td>POINT (-87.6358909539 41.9292629902)</td>\n",
       "      <td>41.921855</td>\n",
       "      <td>-87.646211</td>\n",
       "      <td>POINT (-87.6462109769 41.9218549112)</td>\n",
       "    </tr>\n",
       "  </tbody>\n",
       "</table>\n",
       "<p>5 rows × 23 columns</p>\n",
       "</div>"
      ],
      "text/plain": [
       "                                 unique_key  \\\n",
       "0  ca2943325bb86524ccb494a82c4361e2e59d94b9   \n",
       "1  65772aeff3599d099f040068b9b7cd4491aea5b6   \n",
       "2  be9aee48bd3bc2e919ad76956c94e0bc420366f1   \n",
       "3  e1a250fcf325056fd51fe87e655f2ee15acd4599   \n",
       "4  40c021586099a8bb48795aebbb601384304eb60e   \n",
       "\n",
       "                                             taxi_id  \\\n",
       "0  4ab868a2a19b95f50f355eb8d0d7638f1912b37f49ebd6...   \n",
       "1  6682944f2b37609761181033253037c05fed4377e8b649...   \n",
       "2  af5b394cb22984f667fc0a9cc30e0277cb9edf50f14747...   \n",
       "3  4de82fc17cb23f745931085fbbb3b4f920550cda576979...   \n",
       "4  486a31c847d3de20267c610f8de52bdd13c696a8a22bcb...   \n",
       "\n",
       "       trip_start_timestamp        trip_end_timestamp  trip_seconds  \\\n",
       "0 2013-04-14 14:45:00+00:00 2013-04-14 15:00:00+00:00           660   \n",
       "1 2013-05-12 20:15:00+00:00 2013-05-12 20:30:00+00:00           240   \n",
       "2 2013-04-17 01:45:00+00:00 2013-04-17 02:00:00+00:00           780   \n",
       "3 2013-04-14 14:30:00+00:00 2013-04-14 14:45:00+00:00           360   \n",
       "4 2013-04-21 02:15:00+00:00 2013-04-21 02:15:00+00:00           360   \n",
       "\n",
       "   trip_miles  pickup_census_tract  dropoff_census_tract  \\\n",
       "0         0.0                  NaN                   NaN   \n",
       "1         0.9                  NaN                   NaN   \n",
       "2         0.0         1.703184e+10          1.703124e+10   \n",
       "3         1.2         1.703107e+10          1.703183e+10   \n",
       "4         0.0         1.703107e+10          1.703107e+10   \n",
       "\n",
       "   pickup_community_area  dropoff_community_area  ...  extras  trip_total  \\\n",
       "0                     14                      14  ...     0.0        6.85   \n",
       "1                     41                      41  ...     1.0        6.05   \n",
       "2                     28                      24  ...     1.5       12.95   \n",
       "3                      7                       6  ...     0.0        6.05   \n",
       "4                      7                       7  ...     2.0        7.25   \n",
       "\n",
       "   payment_type                            company  pickup_latitude  \\\n",
       "0          Cash  Blue Ribbon Taxi Association Inc.        41.968069   \n",
       "1          Cash           Northwest Management LLC        41.794090   \n",
       "2          Cash          Dispatch Taxi Affiliation        41.867902   \n",
       "3          Cash          Dispatch Taxi Affiliation        41.930579   \n",
       "4          Cash          Dispatch Taxi Affiliation        41.929263   \n",
       "\n",
       "  pickup_longitude                       pickup_location  dropoff_latitude  \\\n",
       "0       -87.721559      POINT (-87.7215590627 41.968069)         41.968069   \n",
       "1       -87.592311    POINT (-87.592310855 41.794090253)         41.794090   \n",
       "2       -87.642959  POINT (-87.6429586652 41.8679024175)         41.906026   \n",
       "3       -87.642206  POINT (-87.6422063127 41.9305785697)         41.946295   \n",
       "4       -87.635891  POINT (-87.6358909539 41.9292629902)         41.921855   \n",
       "\n",
       "   dropoff_longitude                      dropoff_location  \n",
       "0         -87.721559      POINT (-87.7215590627 41.968069)  \n",
       "1         -87.592311    POINT (-87.592310855 41.794090253)  \n",
       "2         -87.675312   POINT (-87.6753116216 41.906025969)  \n",
       "3         -87.654298  POINT (-87.6542980837 41.9462945357)  \n",
       "4         -87.646211  POINT (-87.6462109769 41.9218549112)  \n",
       "\n",
       "[5 rows x 23 columns]"
      ]
     },
     "execution_count": 6,
     "metadata": {},
     "output_type": "execute_result"
    }
   ],
   "source": [
    "# Your code here\n",
    "table_ref = dataset_ref.table(\"taxi_trips\")\n",
    "\n",
    "# API request - fetch the table\n",
    "table = client.get_table(table_ref)\n",
    "\n",
    "# Preview the first five lines of the \"taxi_trips\" table\n",
    "client.list_rows(table, max_results=5).to_dataframe()"
   ]
  },
  {
   "cell_type": "markdown",
   "id": "4537b529",
   "metadata": {
    "papermill": {
     "duration": 0.010644,
     "end_time": "2024-07-23T13:51:35.175857",
     "exception": false,
     "start_time": "2024-07-23T13:51:35.165213",
     "status": "completed"
    },
    "tags": []
   },
   "source": [
    "After deciding whether you see any important issues, run the code cell below."
   ]
  },
  {
   "cell_type": "code",
   "execution_count": 7,
   "id": "b185f68b",
   "metadata": {
    "execution": {
     "iopub.execute_input": "2024-07-23T13:51:35.203709Z",
     "iopub.status.busy": "2024-07-23T13:51:35.202162Z",
     "iopub.status.idle": "2024-07-23T13:51:35.207954Z",
     "shell.execute_reply": "2024-07-23T13:51:35.206763Z"
    },
    "papermill": {
     "duration": 0.023207,
     "end_time": "2024-07-23T13:51:35.211255",
     "exception": false,
     "start_time": "2024-07-23T13:51:35.188048",
     "status": "completed"
    },
    "tags": []
   },
   "outputs": [],
   "source": [
    "# Check your answer (Run this code cell to receive credit!)\n",
    "#q_2.solution()"
   ]
  },
  {
   "cell_type": "markdown",
   "id": "8df95187",
   "metadata": {
    "papermill": {
     "duration": 0.009297,
     "end_time": "2024-07-23T13:51:35.231874",
     "exception": false,
     "start_time": "2024-07-23T13:51:35.222577",
     "status": "completed"
    },
    "tags": []
   },
   "source": [
    "### 3) Determine when this data is from\n",
    "\n",
    "If the data is sufficiently old, we might be careful before assuming the data is still relevant to traffic patterns today. Write a query that counts the number of trips in each year.  \n",
    "\n",
    "Your results should have two columns:\n",
    "- `year` - the year of the trips\n",
    "- `num_trips` - the number of trips in that year\n",
    "\n",
    "Hints:\n",
    "- When using **GROUP BY** and **ORDER BY**, you should refer to the columns by the alias `year` that you set at the top of the **SELECT** query.\n",
    "- The SQL code to **SELECT** the year from `trip_start_timestamp` is <code>SELECT EXTRACT(YEAR FROM trip_start_timestamp)</code>\n",
    "- The **FROM** field can be a little tricky until you are used to it.  The format is:\n",
    "    1. A backick (the symbol \\`).\n",
    "    2. The project name. In this case it is `bigquery-public-data`.\n",
    "    3. A period.\n",
    "    4. The dataset name. In this case, it is `chicago_taxi_trips`.\n",
    "    5. A period.\n",
    "    6. The table name. You used this as your answer in **1) Find the data**.\n",
    "    7. A backtick (the symbol \\`)."
   ]
  },
  {
   "cell_type": "code",
   "execution_count": 8,
   "id": "43fea248",
   "metadata": {
    "execution": {
     "iopub.execute_input": "2024-07-23T13:51:35.249182Z",
     "iopub.status.busy": "2024-07-23T13:51:35.248233Z",
     "iopub.status.idle": "2024-07-23T13:51:36.823597Z",
     "shell.execute_reply": "2024-07-23T13:51:36.822453Z"
    },
    "papermill": {
     "duration": 1.586662,
     "end_time": "2024-07-23T13:51:36.826100",
     "exception": false,
     "start_time": "2024-07-23T13:51:35.239438",
     "status": "completed"
    },
    "tags": []
   },
   "outputs": [
    {
     "data": {
      "application/javascript": [
       "parent.postMessage({\"jupyterEvent\": \"custom.exercise_interaction\", \"data\": {\"outcomeType\": 1, \"valueTowardsCompletion\": 0.16666666666666666, \"interactionType\": 1, \"questionType\": 2, \"questionId\": \"3_YearDistrib\", \"learnToolsVersion\": \"0.3.4\", \"failureMessage\": \"\", \"exceptionClass\": \"\", \"trace\": \"\"}}, \"*\")"
      ],
      "text/plain": [
       "<IPython.core.display.Javascript object>"
      ]
     },
     "metadata": {},
     "output_type": "display_data"
    },
    {
     "data": {
      "text/markdown": [
       "<span style=\"color:#33cc33\">Correct</span>"
      ],
      "text/plain": [
       "Correct"
      ]
     },
     "metadata": {},
     "output_type": "display_data"
    }
   ],
   "source": [
    "# Your code goes here\n",
    "\n",
    "rides_per_year_query = \"\"\"\n",
    "                       SELECT EXTRACT(YEAR FROM trip_start_timestamp) AS year, \n",
    "                              COUNT(1) AS num_trips\n",
    "                       FROM `bigquery-public-data.chicago_taxi_trips.taxi_trips`\n",
    "                       GROUP BY year\n",
    "                       ORDER BY year\n",
    "                       \"\"\"\n",
    "\n",
    "# Set up the query (cancel the query if it would use too much of \n",
    "# your quota)\n",
    "safe_config = bigquery.QueryJobConfig(maximum_bytes_billed=10**10)\n",
    "rides_per_year_query_job = client.query(rides_per_year_query, job_config=safe_config)\n",
    "\n",
    "# API request - run the query, and return a pandas DataFrame\n",
    "rides_per_year_result = rides_per_year_query_job.to_dataframe()\n",
    "\n",
    "# Check your answer\n",
    "q_3.check()"
   ]
  },
  {
   "cell_type": "markdown",
   "id": "54d9b92d",
   "metadata": {
    "papermill": {
     "duration": 0.007646,
     "end_time": "2024-07-23T13:51:36.841615",
     "exception": false,
     "start_time": "2024-07-23T13:51:36.833969",
     "status": "completed"
    },
    "tags": []
   },
   "source": [
    "For a hint or the solution, uncomment the appropriate line below."
   ]
  },
  {
   "cell_type": "code",
   "execution_count": 9,
   "id": "7bcc391c",
   "metadata": {
    "execution": {
     "iopub.execute_input": "2024-07-23T13:51:36.859062Z",
     "iopub.status.busy": "2024-07-23T13:51:36.858674Z",
     "iopub.status.idle": "2024-07-23T13:51:36.863282Z",
     "shell.execute_reply": "2024-07-23T13:51:36.862100Z"
    },
    "papermill": {
     "duration": 0.016106,
     "end_time": "2024-07-23T13:51:36.865713",
     "exception": false,
     "start_time": "2024-07-23T13:51:36.849607",
     "status": "completed"
    },
    "tags": []
   },
   "outputs": [],
   "source": [
    "#q_3.hint()\n",
    "#q_3.solution()"
   ]
  },
  {
   "cell_type": "markdown",
   "id": "3a2760b3",
   "metadata": {
    "papermill": {
     "duration": 0.007354,
     "end_time": "2024-07-23T13:51:36.880763",
     "exception": false,
     "start_time": "2024-07-23T13:51:36.873409",
     "status": "completed"
    },
    "tags": []
   },
   "source": [
    "### 4) Dive slightly deeper\n",
    "\n",
    "You'd like to take a closer look at rides from 2016.  Copy the query you used above in `rides_per_year_query` into the cell below for `rides_per_month_query`.  Then modify it in two ways:\n",
    "1. Use a **WHERE** clause to limit the query to data from 2016.\n",
    "2. Modify the query to extract the month rather than the year."
   ]
  },
  {
   "cell_type": "code",
   "execution_count": 10,
   "id": "e922081f",
   "metadata": {
    "execution": {
     "iopub.execute_input": "2024-07-23T13:51:36.898216Z",
     "iopub.status.busy": "2024-07-23T13:51:36.897817Z",
     "iopub.status.idle": "2024-07-23T13:51:36.908358Z",
     "shell.execute_reply": "2024-07-23T13:51:36.907223Z"
    },
    "papermill": {
     "duration": 0.022558,
     "end_time": "2024-07-23T13:51:36.910998",
     "exception": false,
     "start_time": "2024-07-23T13:51:36.888440",
     "status": "completed"
    },
    "tags": []
   },
   "outputs": [
    {
     "name": "stdout",
     "output_type": "stream",
     "text": [
      "<learntools.core.constants.PlaceholderValue object at 0x7b1c1c778910>\n"
     ]
    },
    {
     "data": {
      "application/javascript": [
       "parent.postMessage({\"jupyterEvent\": \"custom.exercise_interaction\", \"data\": {\"outcomeType\": 4, \"interactionType\": 1, \"questionType\": 2, \"questionId\": \"4_MonthDistrib\", \"learnToolsVersion\": \"0.3.4\", \"valueTowardsCompletion\": 0.0, \"failureMessage\": \"\", \"exceptionClass\": \"\", \"trace\": \"\"}}, \"*\")"
      ],
      "text/plain": [
       "<IPython.core.display.Javascript object>"
      ]
     },
     "metadata": {},
     "output_type": "display_data"
    },
    {
     "data": {
      "text/markdown": [
       "<span style=\"color:#ccaa33\">Check:</span> When you've updated the starter code, `check()` will tell you whether your code is correct. You need to update the code that creates variable `rides_per_month_result`"
      ],
      "text/plain": [
       "Check: When you've updated the starter code, `check()` will tell you whether your code is correct. You need to update the code that creates variable `rides_per_month_result`"
      ]
     },
     "metadata": {},
     "output_type": "display_data"
    }
   ],
   "source": [
    "# Your code goes here\n",
    "rides_per_month_query = \"\"\"____\"\"\" \n",
    "\n",
    "# Set up the query\n",
    "safe_config = bigquery.QueryJobConfig(maximum_bytes_billed=10**10)\n",
    "rides_per_month_query_job = ____ # Your code goes here\n",
    "\n",
    "# API request - run the query, and return a pandas DataFrame\n",
    "rides_per_month_result = ____ # Your code goes here\n",
    "\n",
    "# View results\n",
    "print(rides_per_month_result)\n",
    "\n",
    "# Check your answer\n",
    "q_4.check()"
   ]
  },
  {
   "cell_type": "markdown",
   "id": "b04df5a5",
   "metadata": {
    "papermill": {
     "duration": 0.007932,
     "end_time": "2024-07-23T13:51:36.926845",
     "exception": false,
     "start_time": "2024-07-23T13:51:36.918913",
     "status": "completed"
    },
    "tags": []
   },
   "source": [
    "For a hint or the solution, uncomment the appropriate line below."
   ]
  },
  {
   "cell_type": "code",
   "execution_count": 11,
   "id": "88ecc996",
   "metadata": {
    "execution": {
     "iopub.execute_input": "2024-07-23T13:51:36.945054Z",
     "iopub.status.busy": "2024-07-23T13:51:36.944047Z",
     "iopub.status.idle": "2024-07-23T13:51:36.952780Z",
     "shell.execute_reply": "2024-07-23T13:51:36.951645Z"
    },
    "papermill": {
     "duration": 0.020201,
     "end_time": "2024-07-23T13:51:36.954997",
     "exception": false,
     "start_time": "2024-07-23T13:51:36.934796",
     "status": "completed"
    },
    "tags": []
   },
   "outputs": [
    {
     "data": {
      "application/javascript": [
       "parent.postMessage({\"jupyterEvent\": \"custom.exercise_interaction\", \"data\": {\"interactionType\": 3, \"questionType\": 2, \"questionId\": \"4_MonthDistrib\", \"learnToolsVersion\": \"0.3.4\", \"valueTowardsCompletion\": 0.0, \"failureMessage\": \"\", \"exceptionClass\": \"\", \"trace\": \"\", \"outcomeType\": 4}}, \"*\")"
      ],
      "text/plain": [
       "<IPython.core.display.Javascript object>"
      ]
     },
     "metadata": {},
     "output_type": "display_data"
    },
    {
     "data": {
      "text/markdown": [
       "<span style=\"color:#33cc99\">Solution:</span> \n",
       "```python\n",
       "\n",
       "rides_per_month_query = \"\"\"\n",
       "                        SELECT EXTRACT(MONTH FROM trip_start_timestamp) AS month, \n",
       "                               COUNT(1) AS num_trips\n",
       "                        FROM `bigquery-public-data.chicago_taxi_trips.taxi_trips`\n",
       "                        WHERE EXTRACT(YEAR FROM trip_start_timestamp) = 2016\n",
       "                        GROUP BY month\n",
       "                        ORDER BY month\n",
       "                        \"\"\"\n",
       "\n",
       "# Set up the query (cancel the query if it would use too much of \n",
       "# your quota)\n",
       "safe_config = bigquery.QueryJobConfig(maximum_bytes_billed=10**10)\n",
       "rides_per_month_query_job = client.query(rides_per_month_query, job_config=safe_config)\n",
       "\n",
       "# API request - run the query, and return a pandas DataFrame\n",
       "rides_per_month_result = rides_per_month_query_job.to_dataframe()\n",
       "\n",
       "```"
      ],
      "text/plain": [
       "Solution: \n",
       "```python\n",
       "\n",
       "rides_per_month_query = \"\"\"\n",
       "                        SELECT EXTRACT(MONTH FROM trip_start_timestamp) AS month, \n",
       "                               COUNT(1) AS num_trips\n",
       "                        FROM `bigquery-public-data.chicago_taxi_trips.taxi_trips`\n",
       "                        WHERE EXTRACT(YEAR FROM trip_start_timestamp) = 2016\n",
       "                        GROUP BY month\n",
       "                        ORDER BY month\n",
       "                        \"\"\"\n",
       "\n",
       "# Set up the query (cancel the query if it would use too much of \n",
       "# your quota)\n",
       "safe_config = bigquery.QueryJobConfig(maximum_bytes_billed=10**10)\n",
       "rides_per_month_query_job = client.query(rides_per_month_query, job_config=safe_config)\n",
       "\n",
       "# API request - run the query, and return a pandas DataFrame\n",
       "rides_per_month_result = rides_per_month_query_job.to_dataframe()\n",
       "\n",
       "```"
      ]
     },
     "metadata": {},
     "output_type": "display_data"
    }
   ],
   "source": [
    "#q_4.hint()\n",
    "q_4.solution()"
   ]
  },
  {
   "cell_type": "markdown",
   "id": "79efe80f",
   "metadata": {
    "papermill": {
     "duration": 0.007946,
     "end_time": "2024-07-23T13:51:36.971378",
     "exception": false,
     "start_time": "2024-07-23T13:51:36.963432",
     "status": "completed"
    },
    "tags": []
   },
   "source": [
    "### 5) Write the query\n",
    "\n",
    "It's time to step up the sophistication of your queries.  Write a query that shows, for each hour of the day in the dataset, the corresponding number of trips and average speed.\n",
    "\n",
    "Your results should have three columns:\n",
    "- `hour_of_day` - sort by this column, which holds the result of extracting the hour from `trip_start_timestamp`.\n",
    "- `num_trips` - the count of the total number of trips in each hour of the day (e.g. how many trips were started between 6AM and 7AM, independent of which day it occurred on).\n",
    "- `avg_mph` - the average speed, measured in miles per hour, for trips that started in that hour of the day.  Average speed in miles per hour is calculated as `3600 * SUM(trip_miles) / SUM(trip_seconds)`. (The value 3600 is used to convert from seconds to hours.)\n",
    "\n",
    "Restrict your query to data meeting the following criteria:\n",
    "- a `trip_start_timestamp` > **2016-01-01** and < **2016-04-01**\n",
    "- `trip_seconds` > 0 and `trip_miles` > 0\n",
    "\n",
    "You will use a common table expression (CTE) to select just the relevant rides.  Because this dataset is very big, this CTE should select only the columns you'll need to create the final output (though you won't actually create those in the CTE -- instead you'll create those in the later **SELECT** statement below the CTE).\n",
    "\n",
    "This is a much harder query than anything you've written so far.  Good luck!"
   ]
  },
  {
   "cell_type": "code",
   "execution_count": 12,
   "id": "59df4f50",
   "metadata": {
    "execution": {
     "iopub.execute_input": "2024-07-23T13:51:36.990650Z",
     "iopub.status.busy": "2024-07-23T13:51:36.989773Z",
     "iopub.status.idle": "2024-07-23T13:51:37.000376Z",
     "shell.execute_reply": "2024-07-23T13:51:36.999276Z"
    },
    "papermill": {
     "duration": 0.022814,
     "end_time": "2024-07-23T13:51:37.002798",
     "exception": false,
     "start_time": "2024-07-23T13:51:36.979984",
     "status": "completed"
    },
    "tags": []
   },
   "outputs": [
    {
     "name": "stdout",
     "output_type": "stream",
     "text": [
      "<learntools.core.constants.PlaceholderValue object at 0x7b1c1c778910>\n"
     ]
    },
    {
     "data": {
      "application/javascript": [
       "parent.postMessage({\"jupyterEvent\": \"custom.exercise_interaction\", \"data\": {\"outcomeType\": 4, \"interactionType\": 1, \"questionType\": 2, \"questionId\": \"5_TheLongQuery\", \"learnToolsVersion\": \"0.3.4\", \"valueTowardsCompletion\": 0.0, \"failureMessage\": \"\", \"exceptionClass\": \"\", \"trace\": \"\"}}, \"*\")"
      ],
      "text/plain": [
       "<IPython.core.display.Javascript object>"
      ]
     },
     "metadata": {},
     "output_type": "display_data"
    },
    {
     "data": {
      "text/markdown": [
       "<span style=\"color:#ccaa33\">Check:</span> When you've updated the starter code, `check()` will tell you whether your code is correct. You need to update the code that creates variable `speeds_result`"
      ],
      "text/plain": [
       "Check: When you've updated the starter code, `check()` will tell you whether your code is correct. You need to update the code that creates variable `speeds_result`"
      ]
     },
     "metadata": {},
     "output_type": "display_data"
    }
   ],
   "source": [
    "# Your code goes here\n",
    "speeds_query = \"\"\"\n",
    "               WITH RelevantRides AS\n",
    "               (\n",
    "                   SELECT ____\n",
    "                   FROM ____\n",
    "                   WHERE ____\n",
    "               )\n",
    "               SELECT ______\n",
    "               FROM RelevantRides\n",
    "               GROUP BY ____\n",
    "               ORDER BY ____\n",
    "               \"\"\"\n",
    "\n",
    "# Set up the query\n",
    "safe_config = bigquery.QueryJobConfig(maximum_bytes_billed=10**10)\n",
    "speeds_query_job = ____ # Your code here\n",
    "\n",
    "# API request - run the query, and return a pandas DataFrame\n",
    "speeds_result = ____ # Your code here\n",
    "\n",
    "# View results\n",
    "print(speeds_result)\n",
    "\n",
    "# Check your answer\n",
    "q_5.check()"
   ]
  },
  {
   "cell_type": "markdown",
   "id": "8b58951e",
   "metadata": {
    "papermill": {
     "duration": 0.008374,
     "end_time": "2024-07-23T13:51:37.020218",
     "exception": false,
     "start_time": "2024-07-23T13:51:37.011844",
     "status": "completed"
    },
    "tags": []
   },
   "source": [
    "For the solution, uncomment the appropriate line below."
   ]
  },
  {
   "cell_type": "code",
   "execution_count": 13,
   "id": "81f6f7f0",
   "metadata": {
    "execution": {
     "iopub.execute_input": "2024-07-23T13:51:37.039386Z",
     "iopub.status.busy": "2024-07-23T13:51:37.038992Z",
     "iopub.status.idle": "2024-07-23T13:51:37.048531Z",
     "shell.execute_reply": "2024-07-23T13:51:37.047435Z"
    },
    "papermill": {
     "duration": 0.022136,
     "end_time": "2024-07-23T13:51:37.051113",
     "exception": false,
     "start_time": "2024-07-23T13:51:37.028977",
     "status": "completed"
    },
    "tags": []
   },
   "outputs": [
    {
     "data": {
      "application/javascript": [
       "parent.postMessage({\"jupyterEvent\": \"custom.exercise_interaction\", \"data\": {\"interactionType\": 3, \"questionType\": 2, \"questionId\": \"5_TheLongQuery\", \"learnToolsVersion\": \"0.3.4\", \"valueTowardsCompletion\": 0.0, \"failureMessage\": \"\", \"exceptionClass\": \"\", \"trace\": \"\", \"outcomeType\": 4}}, \"*\")"
      ],
      "text/plain": [
       "<IPython.core.display.Javascript object>"
      ]
     },
     "metadata": {},
     "output_type": "display_data"
    },
    {
     "data": {
      "text/markdown": [
       "<span style=\"color:#33cc99\">Solution:</span> \n",
       "```python\n",
       "\n",
       "speeds_query = \"\"\"\n",
       "               WITH RelevantRides AS\n",
       "               (\n",
       "                   SELECT EXTRACT(HOUR FROM trip_start_timestamp) AS hour_of_day, \n",
       "                          trip_miles, \n",
       "                          trip_seconds\n",
       "                   FROM `bigquery-public-data.chicago_taxi_trips.taxi_trips`\n",
       "                   WHERE trip_start_timestamp > '2016-01-01' AND \n",
       "                         trip_start_timestamp < '2016-04-01' AND \n",
       "                         trip_seconds > 0 AND \n",
       "                         trip_miles > 0\n",
       "               )\n",
       "               SELECT hour_of_day, \n",
       "                      COUNT(1) AS num_trips, \n",
       "                      3600 * SUM(trip_miles) / SUM(trip_seconds) AS avg_mph\n",
       "               FROM RelevantRides\n",
       "               GROUP BY hour_of_day\n",
       "               ORDER BY hour_of_day\n",
       "               \"\"\"\n",
       "\n",
       "# Set up the query (cancel the query if it would use too much of \n",
       "# your quota)\n",
       "safe_config = bigquery.QueryJobConfig(maximum_bytes_billed=10**10)\n",
       "speeds_query_job = client.query(speeds_query, job_config=safe_config)\n",
       "\n",
       "# API request - run the query, and return a pandas DataFrame\n",
       "speeds_result = speeds_query_job.to_dataframe()\n",
       "\n",
       "# View results\n",
       "print(speeds_result)\n",
       "\n",
       "```"
      ],
      "text/plain": [
       "Solution: \n",
       "```python\n",
       "\n",
       "speeds_query = \"\"\"\n",
       "               WITH RelevantRides AS\n",
       "               (\n",
       "                   SELECT EXTRACT(HOUR FROM trip_start_timestamp) AS hour_of_day, \n",
       "                          trip_miles, \n",
       "                          trip_seconds\n",
       "                   FROM `bigquery-public-data.chicago_taxi_trips.taxi_trips`\n",
       "                   WHERE trip_start_timestamp > '2016-01-01' AND \n",
       "                         trip_start_timestamp < '2016-04-01' AND \n",
       "                         trip_seconds > 0 AND \n",
       "                         trip_miles > 0\n",
       "               )\n",
       "               SELECT hour_of_day, \n",
       "                      COUNT(1) AS num_trips, \n",
       "                      3600 * SUM(trip_miles) / SUM(trip_seconds) AS avg_mph\n",
       "               FROM RelevantRides\n",
       "               GROUP BY hour_of_day\n",
       "               ORDER BY hour_of_day\n",
       "               \"\"\"\n",
       "\n",
       "# Set up the query (cancel the query if it would use too much of \n",
       "# your quota)\n",
       "safe_config = bigquery.QueryJobConfig(maximum_bytes_billed=10**10)\n",
       "speeds_query_job = client.query(speeds_query, job_config=safe_config)\n",
       "\n",
       "# API request - run the query, and return a pandas DataFrame\n",
       "speeds_result = speeds_query_job.to_dataframe()\n",
       "\n",
       "# View results\n",
       "print(speeds_result)\n",
       "\n",
       "```"
      ]
     },
     "metadata": {},
     "output_type": "display_data"
    }
   ],
   "source": [
    "q_5.solution()"
   ]
  },
  {
   "cell_type": "markdown",
   "id": "d3ec71b1",
   "metadata": {
    "papermill": {
     "duration": 0.008903,
     "end_time": "2024-07-23T13:51:37.069048",
     "exception": false,
     "start_time": "2024-07-23T13:51:37.060145",
     "status": "completed"
    },
    "tags": []
   },
   "source": [
    "That's a hard query. If you made good progress towards the solution, congratulations!"
   ]
  },
  {
   "cell_type": "markdown",
   "id": "c4736c02",
   "metadata": {
    "papermill": {
     "duration": 0.008971,
     "end_time": "2024-07-23T13:51:37.087081",
     "exception": false,
     "start_time": "2024-07-23T13:51:37.078110",
     "status": "completed"
    },
    "tags": []
   },
   "source": [
    "# Keep going\n",
    "\n",
    "You can write very complex queries now with a single data source. But nothing expands the horizons of SQL as much as the ability to combine or **JOIN** tables.\n",
    "\n",
    "**[Click here](https://www.kaggle.com/dansbecker/joining-data)** to start the last lesson in the Intro to SQL course."
   ]
  },
  {
   "cell_type": "markdown",
   "id": "47bdb5de",
   "metadata": {
    "papermill": {
     "duration": 0.0088,
     "end_time": "2024-07-23T13:51:37.105077",
     "exception": false,
     "start_time": "2024-07-23T13:51:37.096277",
     "status": "completed"
    },
    "tags": []
   },
   "source": [
    "---\n",
    "\n",
    "\n",
    "\n",
    "\n",
    "*Have questions or comments? Visit the [course discussion forum](https://www.kaggle.com/learn/intro-to-sql/discussion) to chat with other learners.*"
   ]
  }
 ],
 "metadata": {
  "kaggle": {
   "accelerator": "none",
   "dataSources": [
    {
     "datasetId": 22219,
     "sourceId": 28536,
     "sourceType": "datasetVersion"
    },
    {
     "datasetId": 11496,
     "sourceId": 285947,
     "sourceType": "datasetVersion"
    }
   ],
   "isGpuEnabled": false,
   "isInternetEnabled": true,
   "language": "python",
   "sourceType": "notebook"
  },
  "kernelspec": {
   "display_name": "Python 3",
   "language": "python",
   "name": "python3"
  },
  "language_info": {
   "codemirror_mode": {
    "name": "ipython",
    "version": 3
   },
   "file_extension": ".py",
   "mimetype": "text/x-python",
   "name": "python",
   "nbconvert_exporter": "python",
   "pygments_lexer": "ipython3",
   "version": "3.10.13"
  },
  "papermill": {
   "default_parameters": {},
   "duration": 42.115528,
   "end_time": "2024-07-23T13:51:37.836086",
   "environment_variables": {},
   "exception": null,
   "input_path": "__notebook__.ipynb",
   "output_path": "__notebook__.ipynb",
   "parameters": {},
   "start_time": "2024-07-23T13:50:55.720558",
   "version": "2.5.0"
  }
 },
 "nbformat": 4,
 "nbformat_minor": 5
}
