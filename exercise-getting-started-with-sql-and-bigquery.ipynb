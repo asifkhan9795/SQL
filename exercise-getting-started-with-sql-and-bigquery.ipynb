{
 "cells": [
  {
   "cell_type": "markdown",
   "id": "38b11e16",
   "metadata": {
    "papermill": {
     "duration": 0.005979,
     "end_time": "2024-07-17T09:11:06.435357",
     "exception": false,
     "start_time": "2024-07-17T09:11:06.429378",
     "status": "completed"
    },
    "tags": []
   },
   "source": [
    "**This notebook is an exercise in the [SQL](https://www.kaggle.com/learn/intro-to-sql) course.  You can reference the tutorial at [this link](https://www.kaggle.com/dansbecker/getting-started-with-sql-and-bigquery).**\n",
    "\n",
    "---\n"
   ]
  },
  {
   "cell_type": "markdown",
   "id": "daf36828",
   "metadata": {
    "papermill": {
     "duration": 0.005216,
     "end_time": "2024-07-17T09:11:06.446430",
     "exception": false,
     "start_time": "2024-07-17T09:11:06.441214",
     "status": "completed"
    },
    "tags": []
   },
   "source": [
    "# Introduction\n",
    "\n",
    "The first test of your new data exploration skills uses data describing crime in the city of Chicago.\n",
    "\n",
    "Before you get started, run the following cell. It sets up the automated feedback system to review your answers."
   ]
  },
  {
   "cell_type": "code",
   "execution_count": 1,
   "id": "c902d897",
   "metadata": {
    "execution": {
     "iopub.execute_input": "2024-07-17T09:11:06.459590Z",
     "iopub.status.busy": "2024-07-17T09:11:06.459133Z",
     "iopub.status.idle": "2024-07-17T09:11:13.130957Z",
     "shell.execute_reply": "2024-07-17T09:11:13.129454Z"
    },
    "papermill": {
     "duration": 6.681548,
     "end_time": "2024-07-17T09:11:13.133590",
     "exception": false,
     "start_time": "2024-07-17T09:11:06.452042",
     "status": "completed"
    },
    "tags": []
   },
   "outputs": [
    {
     "name": "stdout",
     "output_type": "stream",
     "text": [
      "Using Kaggle's public dataset BigQuery integration.\n",
      "Setup Complete\n"
     ]
    }
   ],
   "source": [
    "# Set up feedack system\n",
    "from learntools.core import binder\n",
    "binder.bind(globals())\n",
    "from learntools.sql.ex1 import *\n",
    "print(\"Setup Complete\")"
   ]
  },
  {
   "cell_type": "markdown",
   "id": "afad385f",
   "metadata": {
    "papermill": {
     "duration": 0.005141,
     "end_time": "2024-07-17T09:11:13.144447",
     "exception": false,
     "start_time": "2024-07-17T09:11:13.139306",
     "status": "completed"
    },
    "tags": []
   },
   "source": [
    "Use the next code cell to fetch the dataset."
   ]
  },
  {
   "cell_type": "code",
   "execution_count": 2,
   "id": "fd1be73b",
   "metadata": {
    "execution": {
     "iopub.execute_input": "2024-07-17T09:11:13.157930Z",
     "iopub.status.busy": "2024-07-17T09:11:13.157235Z",
     "iopub.status.idle": "2024-07-17T09:11:13.588520Z",
     "shell.execute_reply": "2024-07-17T09:11:13.587308Z"
    },
    "papermill": {
     "duration": 0.440936,
     "end_time": "2024-07-17T09:11:13.591326",
     "exception": false,
     "start_time": "2024-07-17T09:11:13.150390",
     "status": "completed"
    },
    "tags": []
   },
   "outputs": [
    {
     "name": "stdout",
     "output_type": "stream",
     "text": [
      "Using Kaggle's public dataset BigQuery integration.\n"
     ]
    }
   ],
   "source": [
    "from google.cloud import bigquery\n",
    "\n",
    "# Create a \"Client\" object\n",
    "client = bigquery.Client()\n",
    "\n",
    "# Construct a reference to the \"chicago_crime\" dataset\n",
    "dataset_ref = client.dataset(\"chicago_crime\", project=\"bigquery-public-data\")\n",
    "\n",
    "# API request - fetch the dataset\n",
    "dataset = client.get_dataset(dataset_ref)"
   ]
  },
  {
   "cell_type": "markdown",
   "id": "ef6297d3",
   "metadata": {
    "papermill": {
     "duration": 0.005191,
     "end_time": "2024-07-17T09:11:13.602096",
     "exception": false,
     "start_time": "2024-07-17T09:11:13.596905",
     "status": "completed"
    },
    "tags": []
   },
   "source": [
    "# Exercises\n",
    "\n",
    "### 1) Count tables in the dataset\n",
    "\n",
    "How many tables are in the Chicago Crime dataset?"
   ]
  },
  {
   "cell_type": "code",
   "execution_count": 3,
   "id": "4a6cd602",
   "metadata": {
    "execution": {
     "iopub.execute_input": "2024-07-17T09:11:13.614909Z",
     "iopub.status.busy": "2024-07-17T09:11:13.614539Z",
     "iopub.status.idle": "2024-07-17T09:11:13.619627Z",
     "shell.execute_reply": "2024-07-17T09:11:13.618387Z"
    },
    "papermill": {
     "duration": 0.014277,
     "end_time": "2024-07-17T09:11:13.622049",
     "exception": false,
     "start_time": "2024-07-17T09:11:13.607772",
     "status": "completed"
    },
    "tags": []
   },
   "outputs": [],
   "source": [
    "# Write the code you need here to figure out the answer"
   ]
  },
  {
   "cell_type": "code",
   "execution_count": 4,
   "id": "e394e664",
   "metadata": {
    "execution": {
     "iopub.execute_input": "2024-07-17T09:11:13.636723Z",
     "iopub.status.busy": "2024-07-17T09:11:13.636326Z",
     "iopub.status.idle": "2024-07-17T09:11:13.646907Z",
     "shell.execute_reply": "2024-07-17T09:11:13.645822Z"
    },
    "papermill": {
     "duration": 0.020234,
     "end_time": "2024-07-17T09:11:13.649274",
     "exception": false,
     "start_time": "2024-07-17T09:11:13.629040",
     "status": "completed"
    },
    "tags": []
   },
   "outputs": [
    {
     "data": {
      "application/javascript": [
       "parent.postMessage({\"jupyterEvent\": \"custom.exercise_interaction\", \"data\": {\"outcomeType\": 1, \"valueTowardsCompletion\": 0.3333333333333333, \"interactionType\": 1, \"questionType\": 1, \"questionId\": \"1_CountTables\", \"learnToolsVersion\": \"0.3.4\", \"failureMessage\": \"\", \"exceptionClass\": \"\", \"trace\": \"\"}}, \"*\")"
      ],
      "text/plain": [
       "<IPython.core.display.Javascript object>"
      ]
     },
     "metadata": {},
     "output_type": "display_data"
    },
    {
     "data": {
      "text/markdown": [
       "<span style=\"color:#33cc33\">Correct</span>"
      ],
      "text/plain": [
       "Correct"
      ]
     },
     "metadata": {},
     "output_type": "display_data"
    }
   ],
   "source": [
    "num_tables = 1  # Store the answer as num_tables and then run this cell\n",
    "\n",
    "# Check your answer\n",
    "q_1.check()"
   ]
  },
  {
   "cell_type": "markdown",
   "id": "b6ff6132",
   "metadata": {
    "papermill": {
     "duration": 0.005659,
     "end_time": "2024-07-17T09:11:13.660815",
     "exception": false,
     "start_time": "2024-07-17T09:11:13.655156",
     "status": "completed"
    },
    "tags": []
   },
   "source": [
    "For a hint or the solution, uncomment the appropriate line below."
   ]
  },
  {
   "cell_type": "code",
   "execution_count": 5,
   "id": "46de8b01",
   "metadata": {
    "execution": {
     "iopub.execute_input": "2024-07-17T09:11:13.675637Z",
     "iopub.status.busy": "2024-07-17T09:11:13.674796Z",
     "iopub.status.idle": "2024-07-17T09:11:13.679824Z",
     "shell.execute_reply": "2024-07-17T09:11:13.678593Z"
    },
    "papermill": {
     "duration": 0.015189,
     "end_time": "2024-07-17T09:11:13.682474",
     "exception": false,
     "start_time": "2024-07-17T09:11:13.667285",
     "status": "completed"
    },
    "tags": []
   },
   "outputs": [],
   "source": [
    "#q_1.hint()\n",
    "#q_1.solution()"
   ]
  },
  {
   "cell_type": "markdown",
   "id": "b0f19740",
   "metadata": {
    "papermill": {
     "duration": 0.005541,
     "end_time": "2024-07-17T09:11:13.693897",
     "exception": false,
     "start_time": "2024-07-17T09:11:13.688356",
     "status": "completed"
    },
    "tags": []
   },
   "source": [
    "### 2) Explore the table schema\n",
    "\n",
    "How many columns in the `crime` table have `TIMESTAMP` data?"
   ]
  },
  {
   "cell_type": "code",
   "execution_count": 6,
   "id": "91888663",
   "metadata": {
    "execution": {
     "iopub.execute_input": "2024-07-17T09:11:13.706905Z",
     "iopub.status.busy": "2024-07-17T09:11:13.706514Z",
     "iopub.status.idle": "2024-07-17T09:11:13.712288Z",
     "shell.execute_reply": "2024-07-17T09:11:13.711039Z"
    },
    "papermill": {
     "duration": 0.015223,
     "end_time": "2024-07-17T09:11:13.714802",
     "exception": false,
     "start_time": "2024-07-17T09:11:13.699579",
     "status": "completed"
    },
    "tags": []
   },
   "outputs": [],
   "source": [
    "# Write the code to figure out the answer"
   ]
  },
  {
   "cell_type": "code",
   "execution_count": 7,
   "id": "28103e94",
   "metadata": {
    "execution": {
     "iopub.execute_input": "2024-07-17T09:11:13.728555Z",
     "iopub.status.busy": "2024-07-17T09:11:13.728148Z",
     "iopub.status.idle": "2024-07-17T09:11:13.737085Z",
     "shell.execute_reply": "2024-07-17T09:11:13.735986Z"
    },
    "papermill": {
     "duration": 0.018628,
     "end_time": "2024-07-17T09:11:13.739658",
     "exception": false,
     "start_time": "2024-07-17T09:11:13.721030",
     "status": "completed"
    },
    "tags": []
   },
   "outputs": [
    {
     "data": {
      "application/javascript": [
       "parent.postMessage({\"jupyterEvent\": \"custom.exercise_interaction\", \"data\": {\"outcomeType\": 1, \"valueTowardsCompletion\": 0.3333333333333333, \"interactionType\": 1, \"questionType\": 1, \"questionId\": \"2_CountTimestampFields\", \"learnToolsVersion\": \"0.3.4\", \"failureMessage\": \"\", \"exceptionClass\": \"\", \"trace\": \"\"}}, \"*\")"
      ],
      "text/plain": [
       "<IPython.core.display.Javascript object>"
      ]
     },
     "metadata": {},
     "output_type": "display_data"
    },
    {
     "data": {
      "text/markdown": [
       "<span style=\"color:#33cc33\">Correct</span>"
      ],
      "text/plain": [
       "Correct"
      ]
     },
     "metadata": {},
     "output_type": "display_data"
    }
   ],
   "source": [
    "num_timestamp_fields = 2 # Put your answer here\n",
    "\n",
    "# Check your answer\n",
    "q_2.check()"
   ]
  },
  {
   "cell_type": "markdown",
   "id": "2de65e7c",
   "metadata": {
    "papermill": {
     "duration": 0.005698,
     "end_time": "2024-07-17T09:11:13.752308",
     "exception": false,
     "start_time": "2024-07-17T09:11:13.746610",
     "status": "completed"
    },
    "tags": []
   },
   "source": [
    "For a hint or the solution, uncomment the appropriate line below."
   ]
  },
  {
   "cell_type": "code",
   "execution_count": 8,
   "id": "a483e7fb",
   "metadata": {
    "execution": {
     "iopub.execute_input": "2024-07-17T09:11:13.766241Z",
     "iopub.status.busy": "2024-07-17T09:11:13.765710Z",
     "iopub.status.idle": "2024-07-17T09:11:13.771056Z",
     "shell.execute_reply": "2024-07-17T09:11:13.769883Z"
    },
    "papermill": {
     "duration": 0.015167,
     "end_time": "2024-07-17T09:11:13.773423",
     "exception": false,
     "start_time": "2024-07-17T09:11:13.758256",
     "status": "completed"
    },
    "tags": []
   },
   "outputs": [],
   "source": [
    "#q_2.hint()\n",
    "#q_2.solution()"
   ]
  },
  {
   "cell_type": "markdown",
   "id": "2c65734f",
   "metadata": {
    "papermill": {
     "duration": 0.005858,
     "end_time": "2024-07-17T09:11:13.785408",
     "exception": false,
     "start_time": "2024-07-17T09:11:13.779550",
     "status": "completed"
    },
    "tags": []
   },
   "source": [
    "### 3) Create a crime map\n",
    "\n",
    "If you wanted to create a map with a dot at the location of each crime, what are the names of the two fields you likely need to pull out of the `crime` table to plot the crimes on a map?"
   ]
  },
  {
   "cell_type": "code",
   "execution_count": 9,
   "id": "f300c89f",
   "metadata": {
    "execution": {
     "iopub.execute_input": "2024-07-17T09:11:13.799230Z",
     "iopub.status.busy": "2024-07-17T09:11:13.798824Z",
     "iopub.status.idle": "2024-07-17T09:11:13.803766Z",
     "shell.execute_reply": "2024-07-17T09:11:13.802506Z"
    },
    "papermill": {
     "duration": 0.014709,
     "end_time": "2024-07-17T09:11:13.806140",
     "exception": false,
     "start_time": "2024-07-17T09:11:13.791431",
     "status": "completed"
    },
    "tags": []
   },
   "outputs": [],
   "source": [
    "# Write the code here to explore the data so you can find the answer"
   ]
  },
  {
   "cell_type": "code",
   "execution_count": 10,
   "id": "63ab85c0",
   "metadata": {
    "execution": {
     "iopub.execute_input": "2024-07-17T09:11:13.819894Z",
     "iopub.status.busy": "2024-07-17T09:11:13.819496Z",
     "iopub.status.idle": "2024-07-17T09:11:13.828508Z",
     "shell.execute_reply": "2024-07-17T09:11:13.827376Z"
    },
    "papermill": {
     "duration": 0.018496,
     "end_time": "2024-07-17T09:11:13.830707",
     "exception": false,
     "start_time": "2024-07-17T09:11:13.812211",
     "status": "completed"
    },
    "tags": []
   },
   "outputs": [
    {
     "data": {
      "application/javascript": [
       "parent.postMessage({\"jupyterEvent\": \"custom.exercise_interaction\", \"data\": {\"outcomeType\": 1, \"valueTowardsCompletion\": 0.3333333333333333, \"interactionType\": 1, \"questionType\": 2, \"questionId\": \"3_IdentifyFieldsForPlotting\", \"learnToolsVersion\": \"0.3.4\", \"failureMessage\": \"\", \"exceptionClass\": \"\", \"trace\": \"\"}}, \"*\")"
      ],
      "text/plain": [
       "<IPython.core.display.Javascript object>"
      ]
     },
     "metadata": {},
     "output_type": "display_data"
    },
    {
     "data": {
      "text/markdown": [
       "<span style=\"color:#33cc33\">Correct</span>"
      ],
      "text/plain": [
       "Correct"
      ]
     },
     "metadata": {},
     "output_type": "display_data"
    }
   ],
   "source": [
    "fields_for_plotting = ['latitude', 'longitude'] # Put your answers here\n",
    "\n",
    "# Check your answer\n",
    "q_3.check()"
   ]
  },
  {
   "cell_type": "markdown",
   "id": "fbf70549",
   "metadata": {
    "papermill": {
     "duration": 0.005948,
     "end_time": "2024-07-17T09:11:13.843103",
     "exception": false,
     "start_time": "2024-07-17T09:11:13.837155",
     "status": "completed"
    },
    "tags": []
   },
   "source": [
    "For a hint or the solution, uncomment the appropriate line below."
   ]
  },
  {
   "cell_type": "code",
   "execution_count": 11,
   "id": "4acaef1c",
   "metadata": {
    "execution": {
     "iopub.execute_input": "2024-07-17T09:11:13.857794Z",
     "iopub.status.busy": "2024-07-17T09:11:13.857382Z",
     "iopub.status.idle": "2024-07-17T09:11:13.862375Z",
     "shell.execute_reply": "2024-07-17T09:11:13.861235Z"
    },
    "papermill": {
     "duration": 0.015467,
     "end_time": "2024-07-17T09:11:13.864847",
     "exception": false,
     "start_time": "2024-07-17T09:11:13.849380",
     "status": "completed"
    },
    "tags": []
   },
   "outputs": [],
   "source": [
    "#q_3.hint()\n",
    "#q_3.solution()"
   ]
  },
  {
   "cell_type": "markdown",
   "id": "de93e455",
   "metadata": {
    "papermill": {
     "duration": 0.006145,
     "end_time": "2024-07-17T09:11:13.877454",
     "exception": false,
     "start_time": "2024-07-17T09:11:13.871309",
     "status": "completed"
    },
    "tags": []
   },
   "source": [
    "Thinking about the question above, there are a few columns that appear to have geographic data. Look at a few values (with the `list_rows()` command) to see if you can determine their relationship.  Two columns will still be hard to interpret. But it should be obvious how the `location` column relates to `latitude` and `longitude`."
   ]
  },
  {
   "cell_type": "code",
   "execution_count": 12,
   "id": "b1d57549",
   "metadata": {
    "execution": {
     "iopub.execute_input": "2024-07-17T09:11:13.891822Z",
     "iopub.status.busy": "2024-07-17T09:11:13.891444Z",
     "iopub.status.idle": "2024-07-17T09:11:13.896137Z",
     "shell.execute_reply": "2024-07-17T09:11:13.895037Z"
    },
    "papermill": {
     "duration": 0.014667,
     "end_time": "2024-07-17T09:11:13.898460",
     "exception": false,
     "start_time": "2024-07-17T09:11:13.883793",
     "status": "completed"
    },
    "tags": []
   },
   "outputs": [],
   "source": [
    "# Scratch space for your code"
   ]
  },
  {
   "cell_type": "markdown",
   "id": "cd124db6",
   "metadata": {
    "papermill": {
     "duration": 0.005943,
     "end_time": "2024-07-17T09:11:13.910681",
     "exception": false,
     "start_time": "2024-07-17T09:11:13.904738",
     "status": "completed"
    },
    "tags": []
   },
   "source": [
    "# Keep going\n",
    "\n",
    "You've looked at the schema, but you haven't yet done anything exciting with the data itself. Things get more interesting when you get to the data, so keep going to **[write your first SQL query](https://www.kaggle.com/dansbecker/select-from-where).**"
   ]
  },
  {
   "cell_type": "markdown",
   "id": "0a3df92f",
   "metadata": {
    "papermill": {
     "duration": 0.005959,
     "end_time": "2024-07-17T09:11:13.923026",
     "exception": false,
     "start_time": "2024-07-17T09:11:13.917067",
     "status": "completed"
    },
    "tags": []
   },
   "source": [
    "---\n",
    "\n",
    "\n",
    "\n",
    "\n",
    "*Have questions or comments? Visit the [course discussion forum](https://www.kaggle.com/learn/intro-to-sql/discussion) to chat with other learners.*"
   ]
  }
 ],
 "metadata": {
  "kaggle": {
   "accelerator": "none",
   "dataSources": [
    {
     "datasetId": 22090,
     "sourceId": 28376,
     "sourceType": "datasetVersion"
    },
    {
     "datasetId": 6057,
     "sourceId": 285982,
     "sourceType": "datasetVersion"
    }
   ],
   "isGpuEnabled": false,
   "isInternetEnabled": false,
   "language": "python",
   "sourceType": "notebook"
  },
  "kernelspec": {
   "display_name": "Python 3",
   "language": "python",
   "name": "python3"
  },
  "language_info": {
   "codemirror_mode": {
    "name": "ipython",
    "version": 3
   },
   "file_extension": ".py",
   "mimetype": "text/x-python",
   "name": "python",
   "nbconvert_exporter": "python",
   "pygments_lexer": "ipython3",
   "version": "3.10.13"
  },
  "papermill": {
   "default_parameters": {},
   "duration": 11.217626,
   "end_time": "2024-07-17T09:11:14.751275",
   "environment_variables": {},
   "exception": null,
   "input_path": "__notebook__.ipynb",
   "output_path": "__notebook__.ipynb",
   "parameters": {},
   "start_time": "2024-07-17T09:11:03.533649",
   "version": "2.5.0"
  }
 },
 "nbformat": 4,
 "nbformat_minor": 5
}
