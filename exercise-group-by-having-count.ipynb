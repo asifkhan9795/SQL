{
 "cells": [
  {
   "cell_type": "markdown",
   "id": "3371c59d",
   "metadata": {
    "papermill": {
     "duration": 0.004381,
     "end_time": "2024-07-19T06:26:35.154652",
     "exception": false,
     "start_time": "2024-07-19T06:26:35.150271",
     "status": "completed"
    },
    "tags": []
   },
   "source": [
    "**This notebook is an exercise in the [SQL](https://www.kaggle.com/learn/intro-to-sql) course.  You can reference the tutorial at [this link](https://www.kaggle.com/dansbecker/group-by-having-count).**\n",
    "\n",
    "---\n"
   ]
  },
  {
   "cell_type": "markdown",
   "id": "59fce278",
   "metadata": {
    "papermill": {
     "duration": 0.003431,
     "end_time": "2024-07-19T06:26:35.162294",
     "exception": false,
     "start_time": "2024-07-19T06:26:35.158863",
     "status": "completed"
    },
    "tags": []
   },
   "source": [
    "# Introduction\n",
    "\n",
    "Queries with **GROUP BY** can be powerful. There are many small things that can trip you up (like the order of the clauses), but it will start to feel natural once you've done it a few times. Here, you'll write queries using **GROUP BY** to answer questions from the Hacker News dataset.\n",
    "\n",
    "Before you get started, run the following cell to set everything up:"
   ]
  },
  {
   "cell_type": "code",
   "execution_count": 1,
   "id": "3b90a927",
   "metadata": {
    "execution": {
     "iopub.execute_input": "2024-07-19T06:26:35.170943Z",
     "iopub.status.busy": "2024-07-19T06:26:35.170568Z",
     "iopub.status.idle": "2024-07-19T06:26:44.058094Z",
     "shell.execute_reply": "2024-07-19T06:26:44.056804Z"
    },
    "papermill": {
     "duration": 8.894494,
     "end_time": "2024-07-19T06:26:44.060317",
     "exception": false,
     "start_time": "2024-07-19T06:26:35.165823",
     "status": "completed"
    },
    "tags": []
   },
   "outputs": [
    {
     "name": "stdout",
     "output_type": "stream",
     "text": [
      "Using Kaggle's public dataset BigQuery integration.\n",
      "Setup Complete\n"
     ]
    }
   ],
   "source": [
    "# Set up feedback system\n",
    "from learntools.core import binder\n",
    "binder.bind(globals())\n",
    "from learntools.sql.ex3 import *\n",
    "print(\"Setup Complete\")"
   ]
  },
  {
   "cell_type": "markdown",
   "id": "36b6219e",
   "metadata": {
    "papermill": {
     "duration": 0.003658,
     "end_time": "2024-07-19T06:26:44.068123",
     "exception": false,
     "start_time": "2024-07-19T06:26:44.064465",
     "status": "completed"
    },
    "tags": []
   },
   "source": [
    "The code cell below fetches the `full` table from the `hacker_news` dataset.  We also preview the first five rows of the table."
   ]
  },
  {
   "cell_type": "code",
   "execution_count": 2,
   "id": "d29daf64",
   "metadata": {
    "execution": {
     "iopub.execute_input": "2024-07-19T06:26:44.078072Z",
     "iopub.status.busy": "2024-07-19T06:26:44.077042Z",
     "iopub.status.idle": "2024-07-19T06:26:47.353128Z",
     "shell.execute_reply": "2024-07-19T06:26:47.352134Z"
    },
    "papermill": {
     "duration": 3.28342,
     "end_time": "2024-07-19T06:26:47.355403",
     "exception": false,
     "start_time": "2024-07-19T06:26:44.071983",
     "status": "completed"
    },
    "tags": []
   },
   "outputs": [
    {
     "name": "stdout",
     "output_type": "stream",
     "text": [
      "Using Kaggle's public dataset BigQuery integration.\n"
     ]
    },
    {
     "data": {
      "text/html": [
       "<div>\n",
       "<style scoped>\n",
       "    .dataframe tbody tr th:only-of-type {\n",
       "        vertical-align: middle;\n",
       "    }\n",
       "\n",
       "    .dataframe tbody tr th {\n",
       "        vertical-align: top;\n",
       "    }\n",
       "\n",
       "    .dataframe thead th {\n",
       "        text-align: right;\n",
       "    }\n",
       "</style>\n",
       "<table border=\"1\" class=\"dataframe\">\n",
       "  <thead>\n",
       "    <tr style=\"text-align: right;\">\n",
       "      <th></th>\n",
       "      <th>title</th>\n",
       "      <th>url</th>\n",
       "      <th>text</th>\n",
       "      <th>dead</th>\n",
       "      <th>by</th>\n",
       "      <th>score</th>\n",
       "      <th>time</th>\n",
       "      <th>timestamp</th>\n",
       "      <th>type</th>\n",
       "      <th>id</th>\n",
       "      <th>parent</th>\n",
       "      <th>descendants</th>\n",
       "      <th>ranking</th>\n",
       "      <th>deleted</th>\n",
       "    </tr>\n",
       "  </thead>\n",
       "  <tbody>\n",
       "    <tr>\n",
       "      <th>0</th>\n",
       "      <td>None</td>\n",
       "      <td>None</td>\n",
       "      <td>None</td>\n",
       "      <td>None</td>\n",
       "      <td>None</td>\n",
       "      <td>NaN</td>\n",
       "      <td>NaN</td>\n",
       "      <td>NaT</td>\n",
       "      <td>story</td>\n",
       "      <td>9195674</td>\n",
       "      <td>NaN</td>\n",
       "      <td>NaN</td>\n",
       "      <td>NaN</td>\n",
       "      <td>None</td>\n",
       "    </tr>\n",
       "    <tr>\n",
       "      <th>1</th>\n",
       "      <td>None</td>\n",
       "      <td>None</td>\n",
       "      <td>None</td>\n",
       "      <td>None</td>\n",
       "      <td>None</td>\n",
       "      <td>NaN</td>\n",
       "      <td>NaN</td>\n",
       "      <td>NaT</td>\n",
       "      <td>story</td>\n",
       "      <td>9195679</td>\n",
       "      <td>NaN</td>\n",
       "      <td>NaN</td>\n",
       "      <td>NaN</td>\n",
       "      <td>None</td>\n",
       "    </tr>\n",
       "    <tr>\n",
       "      <th>2</th>\n",
       "      <td>None</td>\n",
       "      <td>None</td>\n",
       "      <td>None</td>\n",
       "      <td>None</td>\n",
       "      <td>None</td>\n",
       "      <td>NaN</td>\n",
       "      <td>1.426222e+09</td>\n",
       "      <td>2015-03-13 04:42:12+00:00</td>\n",
       "      <td>story</td>\n",
       "      <td>9195694</td>\n",
       "      <td>NaN</td>\n",
       "      <td>NaN</td>\n",
       "      <td>NaN</td>\n",
       "      <td>True</td>\n",
       "    </tr>\n",
       "    <tr>\n",
       "      <th>3</th>\n",
       "      <td>None</td>\n",
       "      <td>None</td>\n",
       "      <td>None</td>\n",
       "      <td>None</td>\n",
       "      <td>None</td>\n",
       "      <td>NaN</td>\n",
       "      <td>NaN</td>\n",
       "      <td>NaT</td>\n",
       "      <td>story</td>\n",
       "      <td>9195768</td>\n",
       "      <td>NaN</td>\n",
       "      <td>NaN</td>\n",
       "      <td>NaN</td>\n",
       "      <td>None</td>\n",
       "    </tr>\n",
       "    <tr>\n",
       "      <th>4</th>\n",
       "      <td>None</td>\n",
       "      <td>None</td>\n",
       "      <td>None</td>\n",
       "      <td>None</td>\n",
       "      <td>None</td>\n",
       "      <td>NaN</td>\n",
       "      <td>NaN</td>\n",
       "      <td>NaT</td>\n",
       "      <td>story</td>\n",
       "      <td>9195771</td>\n",
       "      <td>NaN</td>\n",
       "      <td>NaN</td>\n",
       "      <td>NaN</td>\n",
       "      <td>None</td>\n",
       "    </tr>\n",
       "  </tbody>\n",
       "</table>\n",
       "</div>"
      ],
      "text/plain": [
       "  title   url  text  dead    by  score          time  \\\n",
       "0  None  None  None  None  None    NaN           NaN   \n",
       "1  None  None  None  None  None    NaN           NaN   \n",
       "2  None  None  None  None  None    NaN  1.426222e+09   \n",
       "3  None  None  None  None  None    NaN           NaN   \n",
       "4  None  None  None  None  None    NaN           NaN   \n",
       "\n",
       "                  timestamp   type       id  parent  descendants  ranking  \\\n",
       "0                       NaT  story  9195674     NaN          NaN      NaN   \n",
       "1                       NaT  story  9195679     NaN          NaN      NaN   \n",
       "2 2015-03-13 04:42:12+00:00  story  9195694     NaN          NaN      NaN   \n",
       "3                       NaT  story  9195768     NaN          NaN      NaN   \n",
       "4                       NaT  story  9195771     NaN          NaN      NaN   \n",
       "\n",
       "  deleted  \n",
       "0    None  \n",
       "1    None  \n",
       "2    True  \n",
       "3    None  \n",
       "4    None  "
      ]
     },
     "execution_count": 2,
     "metadata": {},
     "output_type": "execute_result"
    }
   ],
   "source": [
    "from google.cloud import bigquery\n",
    "\n",
    "# Create a \"Client\" object\n",
    "client = bigquery.Client()\n",
    "\n",
    "# Construct a reference to the \"hacker_news\" dataset\n",
    "dataset_ref = client.dataset(\"hacker_news\", project=\"bigquery-public-data\")\n",
    "\n",
    "# API request - fetch the dataset\n",
    "dataset = client.get_dataset(dataset_ref)\n",
    "\n",
    "# Construct a reference to the \"full\" table\n",
    "table_ref = dataset_ref.table(\"full\")\n",
    "\n",
    "# API request - fetch the table\n",
    "table = client.get_table(table_ref)\n",
    "\n",
    "# Preview the first five lines of the table\n",
    "client.list_rows(table, max_results=5).to_dataframe()"
   ]
  },
  {
   "cell_type": "markdown",
   "id": "e959a140",
   "metadata": {
    "papermill": {
     "duration": 0.004085,
     "end_time": "2024-07-19T06:26:47.363979",
     "exception": false,
     "start_time": "2024-07-19T06:26:47.359894",
     "status": "completed"
    },
    "tags": []
   },
   "source": [
    "# Exercises\n",
    "\n",
    "### 1) Prolific commenters\n",
    "\n",
    "Hacker News would like to send awards to everyone who has written more than 10,000 posts. Write a query that returns all authors with more than 10,000 posts as well as their post counts. Call the column with post counts `NumPosts`.\n",
    "\n",
    "In case sample query is helpful, here is a query you saw in the tutorial to answer a similar question:\n",
    "```\n",
    "query = \"\"\"\n",
    "        SELECT parent, COUNT(1) AS NumPosts\n",
    "        FROM `bigquery-public-data.hacker_news.full`\n",
    "        GROUP BY parent\n",
    "        HAVING COUNT(1) > 10\n",
    "        \"\"\"\n",
    "```"
   ]
  },
  {
   "cell_type": "code",
   "execution_count": 3,
   "id": "4564234d",
   "metadata": {
    "execution": {
     "iopub.execute_input": "2024-07-19T06:26:47.374384Z",
     "iopub.status.busy": "2024-07-19T06:26:47.373635Z",
     "iopub.status.idle": "2024-07-19T06:26:49.073300Z",
     "shell.execute_reply": "2024-07-19T06:26:49.072334Z"
    },
    "papermill": {
     "duration": 1.707239,
     "end_time": "2024-07-19T06:26:49.075475",
     "exception": false,
     "start_time": "2024-07-19T06:26:47.368236",
     "status": "completed"
    },
    "tags": []
   },
   "outputs": [
    {
     "name": "stdout",
     "output_type": "stream",
     "text": [
      "          author  NumPosts\n",
      "0      protomyth     15737\n",
      "1      greenyoda     12885\n",
      "2         refurb     17614\n",
      "3         toast0     11261\n",
      "4  nickpsecurity     10111\n"
     ]
    },
    {
     "data": {
      "application/javascript": [
       "parent.postMessage({\"jupyterEvent\": \"custom.exercise_interaction\", \"data\": {\"outcomeType\": 1, \"valueTowardsCompletion\": 0.5, \"interactionType\": 1, \"questionType\": 2, \"questionId\": \"1_ProlificCommenters\", \"learnToolsVersion\": \"0.3.4\", \"failureMessage\": \"\", \"exceptionClass\": \"\", \"trace\": \"\"}}, \"*\")"
      ],
      "text/plain": [
       "<IPython.core.display.Javascript object>"
      ]
     },
     "metadata": {},
     "output_type": "display_data"
    },
    {
     "data": {
      "text/markdown": [
       "<span style=\"color:#33cc33\">Correct</span>"
      ],
      "text/plain": [
       "Correct"
      ]
     },
     "metadata": {},
     "output_type": "display_data"
    }
   ],
   "source": [
    "# Query to select prolific commenters and post counts\n",
    "prolific_commenters_query = \"\"\"\n",
    "                            SELECT `by` AS author, COUNT(1) AS NumPosts\n",
    "                            FROM `bigquery-public-data.hacker_news.full`\n",
    "                            GROUP BY author\n",
    "                            HAVING COUNT(1) > 10000\n",
    "                            \"\"\" # Your code goes here\n",
    "\n",
    "# Set up the query (cancel the query if it would use too much of \n",
    "# your quota, with the limit set to 1 GB)\n",
    "safe_config = bigquery.QueryJobConfig(maximum_bytes_billed=10**10)\n",
    "query_job = client.query(prolific_commenters_query, job_config=safe_config)\n",
    "\n",
    "# API request - run the query, and return a pandas DataFrame\n",
    "prolific_commenters = query_job.to_dataframe()\n",
    "\n",
    "# View top few rows of results\n",
    "print(prolific_commenters.head())\n",
    "\n",
    "# Check your answer\n",
    "q_1.check()"
   ]
  },
  {
   "cell_type": "markdown",
   "id": "3fc6da7e",
   "metadata": {
    "papermill": {
     "duration": 0.004465,
     "end_time": "2024-07-19T06:26:49.084816",
     "exception": false,
     "start_time": "2024-07-19T06:26:49.080351",
     "status": "completed"
    },
    "tags": []
   },
   "source": [
    "For the solution, uncomment the line below."
   ]
  },
  {
   "cell_type": "code",
   "execution_count": 4,
   "id": "d4a2c866",
   "metadata": {
    "execution": {
     "iopub.execute_input": "2024-07-19T06:26:49.095108Z",
     "iopub.status.busy": "2024-07-19T06:26:49.094743Z",
     "iopub.status.idle": "2024-07-19T06:26:49.099067Z",
     "shell.execute_reply": "2024-07-19T06:26:49.098133Z"
    },
    "papermill": {
     "duration": 0.011725,
     "end_time": "2024-07-19T06:26:49.100956",
     "exception": false,
     "start_time": "2024-07-19T06:26:49.089231",
     "status": "completed"
    },
    "tags": []
   },
   "outputs": [],
   "source": [
    "#q_1.solution()"
   ]
  },
  {
   "cell_type": "markdown",
   "id": "6e5c7a57",
   "metadata": {
    "papermill": {
     "duration": 0.004201,
     "end_time": "2024-07-19T06:26:49.109750",
     "exception": false,
     "start_time": "2024-07-19T06:26:49.105549",
     "status": "completed"
    },
    "tags": []
   },
   "source": [
    "### 2) Deleted comments\n",
    "\n",
    "How many comments have been deleted? (If a comment was deleted, the `deleted` column in the table will have the value `True`.)"
   ]
  },
  {
   "cell_type": "code",
   "execution_count": 5,
   "id": "039c5906",
   "metadata": {
    "execution": {
     "iopub.execute_input": "2024-07-19T06:26:49.120516Z",
     "iopub.status.busy": "2024-07-19T06:26:49.119612Z",
     "iopub.status.idle": "2024-07-19T06:26:49.123918Z",
     "shell.execute_reply": "2024-07-19T06:26:49.123007Z"
    },
    "papermill": {
     "duration": 0.011858,
     "end_time": "2024-07-19T06:26:49.126023",
     "exception": false,
     "start_time": "2024-07-19T06:26:49.114165",
     "status": "completed"
    },
    "tags": []
   },
   "outputs": [],
   "source": [
    "# Write your query here and figure out the answer"
   ]
  },
  {
   "cell_type": "code",
   "execution_count": 6,
   "id": "1da74c32",
   "metadata": {
    "execution": {
     "iopub.execute_input": "2024-07-19T06:26:49.136252Z",
     "iopub.status.busy": "2024-07-19T06:26:49.135912Z",
     "iopub.status.idle": "2024-07-19T06:26:51.238684Z",
     "shell.execute_reply": "2024-07-19T06:26:51.237630Z"
    },
    "papermill": {
     "duration": 2.110348,
     "end_time": "2024-07-19T06:26:51.240866",
     "exception": false,
     "start_time": "2024-07-19T06:26:49.130518",
     "status": "completed"
    },
    "tags": []
   },
   "outputs": [
    {
     "name": "stdout",
     "output_type": "stream",
     "text": [
      "   num_deleted_posts\n",
      "0            1192860\n"
     ]
    },
    {
     "data": {
      "application/javascript": [
       "parent.postMessage({\"jupyterEvent\": \"custom.exercise_interaction\", \"data\": {\"outcomeType\": 1, \"valueTowardsCompletion\": 0.5, \"interactionType\": 1, \"questionType\": 1, \"questionId\": \"2_NumDeletedPosts\", \"learnToolsVersion\": \"0.3.4\", \"failureMessage\": \"\", \"exceptionClass\": \"\", \"trace\": \"\"}}, \"*\")"
      ],
      "text/plain": [
       "<IPython.core.display.Javascript object>"
      ]
     },
     "metadata": {},
     "output_type": "display_data"
    },
    {
     "data": {
      "text/markdown": [
       "<span style=\"color:#33cc33\">Correct</span>"
      ],
      "text/plain": [
       "Correct"
      ]
     },
     "metadata": {},
     "output_type": "display_data"
    }
   ],
   "source": [
    "\n",
    "# Query to determine how many posts were deleted\n",
    "deleted_posts_query = \"\"\"\n",
    "                      SELECT COUNT(1) AS num_deleted_posts\n",
    "                      FROM `bigquery-public-data.hacker_news.full`\n",
    "                      WHERE deleted = True\n",
    "                      \"\"\"\n",
    "\n",
    "# Set up the query\n",
    "query_job = client.query(deleted_posts_query)\n",
    "\n",
    "# API request - run the query, and return a pandas DataFrame\n",
    "deleted_posts = query_job.to_dataframe()\n",
    "\n",
    "# View results\n",
    "print(deleted_posts)\n",
    "\n",
    "num_deleted_posts = 1192860\n",
    "\n",
    "\n",
    "# Check your answer\n",
    "q_2.check()"
   ]
  },
  {
   "cell_type": "markdown",
   "id": "75a1ec6c",
   "metadata": {
    "papermill": {
     "duration": 0.004688,
     "end_time": "2024-07-19T06:26:51.250423",
     "exception": false,
     "start_time": "2024-07-19T06:26:51.245735",
     "status": "completed"
    },
    "tags": []
   },
   "source": [
    "For the solution, uncomment the line below."
   ]
  },
  {
   "cell_type": "code",
   "execution_count": 7,
   "id": "15e96174",
   "metadata": {
    "execution": {
     "iopub.execute_input": "2024-07-19T06:26:51.261656Z",
     "iopub.status.busy": "2024-07-19T06:26:51.261286Z",
     "iopub.status.idle": "2024-07-19T06:26:51.265807Z",
     "shell.execute_reply": "2024-07-19T06:26:51.264784Z"
    },
    "papermill": {
     "duration": 0.012499,
     "end_time": "2024-07-19T06:26:51.267756",
     "exception": false,
     "start_time": "2024-07-19T06:26:51.255257",
     "status": "completed"
    },
    "tags": []
   },
   "outputs": [],
   "source": [
    "#q_2.solution()"
   ]
  },
  {
   "cell_type": "markdown",
   "id": "c7f896dc",
   "metadata": {
    "papermill": {
     "duration": 0.004524,
     "end_time": "2024-07-19T06:26:51.277172",
     "exception": false,
     "start_time": "2024-07-19T06:26:51.272648",
     "status": "completed"
    },
    "tags": []
   },
   "source": [
    "# Keep Going\n",
    "**[Click here](https://www.kaggle.com/dansbecker/order-by)** to move on and learn about the **ORDER BY** clause."
   ]
  },
  {
   "cell_type": "markdown",
   "id": "76eeb248",
   "metadata": {
    "papermill": {
     "duration": 0.004537,
     "end_time": "2024-07-19T06:26:51.286406",
     "exception": false,
     "start_time": "2024-07-19T06:26:51.281869",
     "status": "completed"
    },
    "tags": []
   },
   "source": [
    "---\n",
    "\n",
    "\n",
    "\n",
    "\n",
    "*Have questions or comments? Visit the [course discussion forum](https://www.kaggle.com/learn/intro-to-sql/discussion) to chat with other learners.*"
   ]
  }
 ],
 "metadata": {
  "kaggle": {
   "accelerator": "none",
   "dataSources": [
    {
     "datasetId": 6057,
     "sourceId": 285982,
     "sourceType": "datasetVersion"
    }
   ],
   "isGpuEnabled": false,
   "isInternetEnabled": false,
   "language": "python",
   "sourceType": "notebook"
  },
  "kernelspec": {
   "display_name": "Python 3",
   "language": "python",
   "name": "python3"
  },
  "language_info": {
   "codemirror_mode": {
    "name": "ipython",
    "version": 3
   },
   "file_extension": ".py",
   "mimetype": "text/x-python",
   "name": "python",
   "nbconvert_exporter": "python",
   "pygments_lexer": "ipython3",
   "version": "3.10.13"
  },
  "papermill": {
   "default_parameters": {},
   "duration": 19.349054,
   "end_time": "2024-07-19T06:26:51.911293",
   "environment_variables": {},
   "exception": null,
   "input_path": "__notebook__.ipynb",
   "output_path": "__notebook__.ipynb",
   "parameters": {},
   "start_time": "2024-07-19T06:26:32.562239",
   "version": "2.5.0"
  }
 },
 "nbformat": 4,
 "nbformat_minor": 5
}
