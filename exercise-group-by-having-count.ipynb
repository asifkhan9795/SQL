{
 "cells": [
  {
   "cell_type": "markdown",
   "id": "df98e4de",
   "metadata": {
    "papermill": {
     "duration": 0.00576,
     "end_time": "2024-07-19T06:25:39.088146",
     "exception": false,
     "start_time": "2024-07-19T06:25:39.082386",
     "status": "completed"
    },
    "tags": []
   },
   "source": [
    "**This notebook is an exercise in the [SQL](https://www.kaggle.com/learn/intro-to-sql) course.  You can reference the tutorial at [this link](https://www.kaggle.com/dansbecker/group-by-having-count).**\n",
    "\n",
    "---\n"
   ]
  },
  {
   "cell_type": "markdown",
   "id": "1959c76e",
   "metadata": {
    "papermill": {
     "duration": 0.00499,
     "end_time": "2024-07-19T06:25:39.098874",
     "exception": false,
     "start_time": "2024-07-19T06:25:39.093884",
     "status": "completed"
    },
    "tags": []
   },
   "source": [
    "# Introduction\n",
    "\n",
    "Queries with **GROUP BY** can be powerful. There are many small things that can trip you up (like the order of the clauses), but it will start to feel natural once you've done it a few times. Here, you'll write queries using **GROUP BY** to answer questions from the Hacker News dataset.\n",
    "\n",
    "Before you get started, run the following cell to set everything up:"
   ]
  },
  {
   "cell_type": "code",
   "execution_count": 1,
   "id": "b4bb4598",
   "metadata": {
    "execution": {
     "iopub.execute_input": "2024-07-19T06:25:39.112065Z",
     "iopub.status.busy": "2024-07-19T06:25:39.111012Z",
     "iopub.status.idle": "2024-07-19T06:25:49.480279Z",
     "shell.execute_reply": "2024-07-19T06:25:49.478683Z"
    },
    "papermill": {
     "duration": 10.378731,
     "end_time": "2024-07-19T06:25:49.482930",
     "exception": false,
     "start_time": "2024-07-19T06:25:39.104199",
     "status": "completed"
    },
    "tags": []
   },
   "outputs": [
    {
     "name": "stdout",
     "output_type": "stream",
     "text": [
      "Using Kaggle's public dataset BigQuery integration.\n",
      "Setup Complete\n"
     ]
    }
   ],
   "source": [
    "# Set up feedback system\n",
    "from learntools.core import binder\n",
    "binder.bind(globals())\n",
    "from learntools.sql.ex3 import *\n",
    "print(\"Setup Complete\")"
   ]
  },
  {
   "cell_type": "markdown",
   "id": "018f3b93",
   "metadata": {
    "papermill": {
     "duration": 0.005297,
     "end_time": "2024-07-19T06:25:49.494026",
     "exception": false,
     "start_time": "2024-07-19T06:25:49.488729",
     "status": "completed"
    },
    "tags": []
   },
   "source": [
    "The code cell below fetches the `full` table from the `hacker_news` dataset.  We also preview the first five rows of the table."
   ]
  },
  {
   "cell_type": "code",
   "execution_count": 2,
   "id": "ea065a64",
   "metadata": {
    "execution": {
     "iopub.execute_input": "2024-07-19T06:25:49.507279Z",
     "iopub.status.busy": "2024-07-19T06:25:49.506650Z",
     "iopub.status.idle": "2024-07-19T06:25:50.982206Z",
     "shell.execute_reply": "2024-07-19T06:25:50.980568Z"
    },
    "papermill": {
     "duration": 1.485374,
     "end_time": "2024-07-19T06:25:50.984999",
     "exception": false,
     "start_time": "2024-07-19T06:25:49.499625",
     "status": "completed"
    },
    "tags": []
   },
   "outputs": [
    {
     "name": "stdout",
     "output_type": "stream",
     "text": [
      "Using Kaggle's public dataset BigQuery integration.\n"
     ]
    },
    {
     "data": {
      "text/html": [
       "<div>\n",
       "<style scoped>\n",
       "    .dataframe tbody tr th:only-of-type {\n",
       "        vertical-align: middle;\n",
       "    }\n",
       "\n",
       "    .dataframe tbody tr th {\n",
       "        vertical-align: top;\n",
       "    }\n",
       "\n",
       "    .dataframe thead th {\n",
       "        text-align: right;\n",
       "    }\n",
       "</style>\n",
       "<table border=\"1\" class=\"dataframe\">\n",
       "  <thead>\n",
       "    <tr style=\"text-align: right;\">\n",
       "      <th></th>\n",
       "      <th>title</th>\n",
       "      <th>url</th>\n",
       "      <th>text</th>\n",
       "      <th>dead</th>\n",
       "      <th>by</th>\n",
       "      <th>score</th>\n",
       "      <th>time</th>\n",
       "      <th>timestamp</th>\n",
       "      <th>type</th>\n",
       "      <th>id</th>\n",
       "      <th>parent</th>\n",
       "      <th>descendants</th>\n",
       "      <th>ranking</th>\n",
       "      <th>deleted</th>\n",
       "    </tr>\n",
       "  </thead>\n",
       "  <tbody>\n",
       "    <tr>\n",
       "      <th>0</th>\n",
       "      <td>None</td>\n",
       "      <td>None</td>\n",
       "      <td>None</td>\n",
       "      <td>None</td>\n",
       "      <td>None</td>\n",
       "      <td>NaN</td>\n",
       "      <td>NaN</td>\n",
       "      <td>NaT</td>\n",
       "      <td>story</td>\n",
       "      <td>9195674</td>\n",
       "      <td>NaN</td>\n",
       "      <td>NaN</td>\n",
       "      <td>NaN</td>\n",
       "      <td>None</td>\n",
       "    </tr>\n",
       "    <tr>\n",
       "      <th>1</th>\n",
       "      <td>None</td>\n",
       "      <td>None</td>\n",
       "      <td>None</td>\n",
       "      <td>None</td>\n",
       "      <td>None</td>\n",
       "      <td>NaN</td>\n",
       "      <td>NaN</td>\n",
       "      <td>NaT</td>\n",
       "      <td>story</td>\n",
       "      <td>9195679</td>\n",
       "      <td>NaN</td>\n",
       "      <td>NaN</td>\n",
       "      <td>NaN</td>\n",
       "      <td>None</td>\n",
       "    </tr>\n",
       "    <tr>\n",
       "      <th>2</th>\n",
       "      <td>None</td>\n",
       "      <td>None</td>\n",
       "      <td>None</td>\n",
       "      <td>None</td>\n",
       "      <td>None</td>\n",
       "      <td>NaN</td>\n",
       "      <td>1.426222e+09</td>\n",
       "      <td>2015-03-13 04:42:12+00:00</td>\n",
       "      <td>story</td>\n",
       "      <td>9195694</td>\n",
       "      <td>NaN</td>\n",
       "      <td>NaN</td>\n",
       "      <td>NaN</td>\n",
       "      <td>True</td>\n",
       "    </tr>\n",
       "    <tr>\n",
       "      <th>3</th>\n",
       "      <td>None</td>\n",
       "      <td>None</td>\n",
       "      <td>None</td>\n",
       "      <td>None</td>\n",
       "      <td>None</td>\n",
       "      <td>NaN</td>\n",
       "      <td>NaN</td>\n",
       "      <td>NaT</td>\n",
       "      <td>story</td>\n",
       "      <td>9195768</td>\n",
       "      <td>NaN</td>\n",
       "      <td>NaN</td>\n",
       "      <td>NaN</td>\n",
       "      <td>None</td>\n",
       "    </tr>\n",
       "    <tr>\n",
       "      <th>4</th>\n",
       "      <td>None</td>\n",
       "      <td>None</td>\n",
       "      <td>None</td>\n",
       "      <td>None</td>\n",
       "      <td>None</td>\n",
       "      <td>NaN</td>\n",
       "      <td>NaN</td>\n",
       "      <td>NaT</td>\n",
       "      <td>story</td>\n",
       "      <td>9195771</td>\n",
       "      <td>NaN</td>\n",
       "      <td>NaN</td>\n",
       "      <td>NaN</td>\n",
       "      <td>None</td>\n",
       "    </tr>\n",
       "  </tbody>\n",
       "</table>\n",
       "</div>"
      ],
      "text/plain": [
       "  title   url  text  dead    by  score          time  \\\n",
       "0  None  None  None  None  None    NaN           NaN   \n",
       "1  None  None  None  None  None    NaN           NaN   \n",
       "2  None  None  None  None  None    NaN  1.426222e+09   \n",
       "3  None  None  None  None  None    NaN           NaN   \n",
       "4  None  None  None  None  None    NaN           NaN   \n",
       "\n",
       "                  timestamp   type       id  parent  descendants  ranking  \\\n",
       "0                       NaT  story  9195674     NaN          NaN      NaN   \n",
       "1                       NaT  story  9195679     NaN          NaN      NaN   \n",
       "2 2015-03-13 04:42:12+00:00  story  9195694     NaN          NaN      NaN   \n",
       "3                       NaT  story  9195768     NaN          NaN      NaN   \n",
       "4                       NaT  story  9195771     NaN          NaN      NaN   \n",
       "\n",
       "  deleted  \n",
       "0    None  \n",
       "1    None  \n",
       "2    True  \n",
       "3    None  \n",
       "4    None  "
      ]
     },
     "execution_count": 2,
     "metadata": {},
     "output_type": "execute_result"
    }
   ],
   "source": [
    "from google.cloud import bigquery\n",
    "\n",
    "# Create a \"Client\" object\n",
    "client = bigquery.Client()\n",
    "\n",
    "# Construct a reference to the \"hacker_news\" dataset\n",
    "dataset_ref = client.dataset(\"hacker_news\", project=\"bigquery-public-data\")\n",
    "\n",
    "# API request - fetch the dataset\n",
    "dataset = client.get_dataset(dataset_ref)\n",
    "\n",
    "# Construct a reference to the \"full\" table\n",
    "table_ref = dataset_ref.table(\"full\")\n",
    "\n",
    "# API request - fetch the table\n",
    "table = client.get_table(table_ref)\n",
    "\n",
    "# Preview the first five lines of the table\n",
    "client.list_rows(table, max_results=5).to_dataframe()"
   ]
  },
  {
   "cell_type": "markdown",
   "id": "b5368890",
   "metadata": {
    "papermill": {
     "duration": 0.005834,
     "end_time": "2024-07-19T06:25:50.997301",
     "exception": false,
     "start_time": "2024-07-19T06:25:50.991467",
     "status": "completed"
    },
    "tags": []
   },
   "source": [
    "# Exercises\n",
    "\n",
    "### 1) Prolific commenters\n",
    "\n",
    "Hacker News would like to send awards to everyone who has written more than 10,000 posts. Write a query that returns all authors with more than 10,000 posts as well as their post counts. Call the column with post counts `NumPosts`.\n",
    "\n",
    "In case sample query is helpful, here is a query you saw in the tutorial to answer a similar question:\n",
    "```\n",
    "query = \"\"\"\n",
    "        SELECT parent, COUNT(1) AS NumPosts\n",
    "        FROM `bigquery-public-data.hacker_news.full`\n",
    "        GROUP BY parent\n",
    "        HAVING COUNT(1) > 10\n",
    "        \"\"\"\n",
    "```"
   ]
  },
  {
   "cell_type": "code",
   "execution_count": 3,
   "id": "dd16f3ec",
   "metadata": {
    "execution": {
     "iopub.execute_input": "2024-07-19T06:25:51.013258Z",
     "iopub.status.busy": "2024-07-19T06:25:51.012708Z",
     "iopub.status.idle": "2024-07-19T06:25:52.452443Z",
     "shell.execute_reply": "2024-07-19T06:25:52.451175Z"
    },
    "papermill": {
     "duration": 1.450523,
     "end_time": "2024-07-19T06:25:52.455413",
     "exception": false,
     "start_time": "2024-07-19T06:25:51.004890",
     "status": "completed"
    },
    "tags": []
   },
   "outputs": [
    {
     "name": "stdout",
     "output_type": "stream",
     "text": [
      "          author  NumPosts\n",
      "0      protomyth     15737\n",
      "1      greenyoda     12885\n",
      "2         refurb     17614\n",
      "3         toast0     11261\n",
      "4  nickpsecurity     10111\n"
     ]
    },
    {
     "data": {
      "application/javascript": [
       "parent.postMessage({\"jupyterEvent\": \"custom.exercise_interaction\", \"data\": {\"outcomeType\": 1, \"valueTowardsCompletion\": 0.5, \"interactionType\": 1, \"questionType\": 2, \"questionId\": \"1_ProlificCommenters\", \"learnToolsVersion\": \"0.3.4\", \"failureMessage\": \"\", \"exceptionClass\": \"\", \"trace\": \"\"}}, \"*\")"
      ],
      "text/plain": [
       "<IPython.core.display.Javascript object>"
      ]
     },
     "metadata": {},
     "output_type": "display_data"
    },
    {
     "data": {
      "text/markdown": [
       "<span style=\"color:#33cc33\">Correct</span>"
      ],
      "text/plain": [
       "Correct"
      ]
     },
     "metadata": {},
     "output_type": "display_data"
    }
   ],
   "source": [
    "# Query to select prolific commenters and post counts\n",
    "prolific_commenters_query = \"\"\"\n",
    "                            SELECT `by` AS author, COUNT(1) AS NumPosts\n",
    "                            FROM `bigquery-public-data.hacker_news.full`\n",
    "                            GROUP BY author\n",
    "                            HAVING COUNT(1) > 10000\n",
    "                            \"\"\" # Your code goes here\n",
    "\n",
    "# Set up the query (cancel the query if it would use too much of \n",
    "# your quota, with the limit set to 1 GB)\n",
    "safe_config = bigquery.QueryJobConfig(maximum_bytes_billed=10**10)\n",
    "query_job = client.query(prolific_commenters_query, job_config=safe_config)\n",
    "\n",
    "# API request - run the query, and return a pandas DataFrame\n",
    "prolific_commenters = query_job.to_dataframe()\n",
    "\n",
    "# View top few rows of results\n",
    "print(prolific_commenters.head())\n",
    "\n",
    "# Check your answer\n",
    "q_1.check()"
   ]
  },
  {
   "cell_type": "markdown",
   "id": "8bf85d0a",
   "metadata": {
    "papermill": {
     "duration": 0.006238,
     "end_time": "2024-07-19T06:25:52.468341",
     "exception": false,
     "start_time": "2024-07-19T06:25:52.462103",
     "status": "completed"
    },
    "tags": []
   },
   "source": [
    "For the solution, uncomment the line below."
   ]
  },
  {
   "cell_type": "code",
   "execution_count": 4,
   "id": "56e2b25d",
   "metadata": {
    "execution": {
     "iopub.execute_input": "2024-07-19T06:25:52.483746Z",
     "iopub.status.busy": "2024-07-19T06:25:52.483304Z",
     "iopub.status.idle": "2024-07-19T06:25:52.489177Z",
     "shell.execute_reply": "2024-07-19T06:25:52.487759Z"
    },
    "papermill": {
     "duration": 0.01697,
     "end_time": "2024-07-19T06:25:52.491944",
     "exception": false,
     "start_time": "2024-07-19T06:25:52.474974",
     "status": "completed"
    },
    "tags": []
   },
   "outputs": [],
   "source": [
    "#q_1.solution()"
   ]
  },
  {
   "cell_type": "markdown",
   "id": "38b2dc32",
   "metadata": {
    "papermill": {
     "duration": 0.006556,
     "end_time": "2024-07-19T06:25:52.505369",
     "exception": false,
     "start_time": "2024-07-19T06:25:52.498813",
     "status": "completed"
    },
    "tags": []
   },
   "source": [
    "### 2) Deleted comments\n",
    "\n",
    "How many comments have been deleted? (If a comment was deleted, the `deleted` column in the table will have the value `True`.)"
   ]
  },
  {
   "cell_type": "code",
   "execution_count": 5,
   "id": "f2441abf",
   "metadata": {
    "execution": {
     "iopub.execute_input": "2024-07-19T06:25:52.521361Z",
     "iopub.status.busy": "2024-07-19T06:25:52.520881Z",
     "iopub.status.idle": "2024-07-19T06:25:52.526418Z",
     "shell.execute_reply": "2024-07-19T06:25:52.525127Z"
    },
    "papermill": {
     "duration": 0.017044,
     "end_time": "2024-07-19T06:25:52.529377",
     "exception": false,
     "start_time": "2024-07-19T06:25:52.512333",
     "status": "completed"
    },
    "tags": []
   },
   "outputs": [],
   "source": [
    "# Write your query here and figure out the answer"
   ]
  },
  {
   "cell_type": "code",
   "execution_count": 6,
   "id": "e78153bc",
   "metadata": {
    "execution": {
     "iopub.execute_input": "2024-07-19T06:25:52.544999Z",
     "iopub.status.busy": "2024-07-19T06:25:52.544593Z",
     "iopub.status.idle": "2024-07-19T06:25:54.028764Z",
     "shell.execute_reply": "2024-07-19T06:25:54.027363Z"
    },
    "papermill": {
     "duration": 1.495783,
     "end_time": "2024-07-19T06:25:54.031939",
     "exception": false,
     "start_time": "2024-07-19T06:25:52.536156",
     "status": "completed"
    },
    "tags": []
   },
   "outputs": [
    {
     "name": "stdout",
     "output_type": "stream",
     "text": [
      "   num_deleted_posts\n",
      "0            1192860\n"
     ]
    },
    {
     "data": {
      "application/javascript": [
       "parent.postMessage({\"jupyterEvent\": \"custom.exercise_interaction\", \"data\": {\"outcomeType\": 1, \"valueTowardsCompletion\": 0.5, \"interactionType\": 1, \"questionType\": 1, \"questionId\": \"2_NumDeletedPosts\", \"learnToolsVersion\": \"0.3.4\", \"failureMessage\": \"\", \"exceptionClass\": \"\", \"trace\": \"\"}}, \"*\")"
      ],
      "text/plain": [
       "<IPython.core.display.Javascript object>"
      ]
     },
     "metadata": {},
     "output_type": "display_data"
    },
    {
     "data": {
      "text/markdown": [
       "<span style=\"color:#33cc33\">Correct</span>"
      ],
      "text/plain": [
       "Correct"
      ]
     },
     "metadata": {},
     "output_type": "display_data"
    }
   ],
   "source": [
    "\n",
    "# Query to determine how many posts were deleted\n",
    "deleted_posts_query = \"\"\"\n",
    "                      SELECT COUNT(1) AS num_deleted_posts\n",
    "                      FROM `bigquery-public-data.hacker_news.full`\n",
    "                      WHERE deleted = True\n",
    "                      \"\"\"\n",
    "\n",
    "# Set up the query\n",
    "query_job = client.query(deleted_posts_query)\n",
    "\n",
    "# API request - run the query, and return a pandas DataFrame\n",
    "deleted_posts = query_job.to_dataframe()\n",
    "\n",
    "# View results\n",
    "print(deleted_posts)\n",
    "\n",
    "num_deleted_posts = 1192860\n",
    "\n",
    "\n",
    "# Check your answer\n",
    "q_2.check()"
   ]
  },
  {
   "cell_type": "markdown",
   "id": "4ddd4f45",
   "metadata": {
    "papermill": {
     "duration": 0.009892,
     "end_time": "2024-07-19T06:25:54.053315",
     "exception": false,
     "start_time": "2024-07-19T06:25:54.043423",
     "status": "completed"
    },
    "tags": []
   },
   "source": [
    "For the solution, uncomment the line below."
   ]
  },
  {
   "cell_type": "code",
   "execution_count": 7,
   "id": "1241689b",
   "metadata": {
    "execution": {
     "iopub.execute_input": "2024-07-19T06:25:54.071981Z",
     "iopub.status.busy": "2024-07-19T06:25:54.070804Z",
     "iopub.status.idle": "2024-07-19T06:25:54.077602Z",
     "shell.execute_reply": "2024-07-19T06:25:54.075886Z"
    },
    "papermill": {
     "duration": 0.020742,
     "end_time": "2024-07-19T06:25:54.081691",
     "exception": false,
     "start_time": "2024-07-19T06:25:54.060949",
     "status": "completed"
    },
    "tags": []
   },
   "outputs": [],
   "source": [
    "#q_2.solution()"
   ]
  },
  {
   "cell_type": "markdown",
   "id": "544b4528",
   "metadata": {
    "papermill": {
     "duration": 0.007714,
     "end_time": "2024-07-19T06:25:54.099159",
     "exception": false,
     "start_time": "2024-07-19T06:25:54.091445",
     "status": "completed"
    },
    "tags": []
   },
   "source": [
    "# Keep Going\n",
    "**[Click here](https://www.kaggle.com/dansbecker/order-by)** to move on and learn about the **ORDER BY** clause."
   ]
  },
  {
   "cell_type": "markdown",
   "id": "af5f05a7",
   "metadata": {
    "papermill": {
     "duration": 0.006797,
     "end_time": "2024-07-19T06:25:54.113049",
     "exception": false,
     "start_time": "2024-07-19T06:25:54.106252",
     "status": "completed"
    },
    "tags": []
   },
   "source": [
    "---\n",
    "\n",
    "\n",
    "\n",
    "\n",
    "*Have questions or comments? Visit the [course discussion forum](https://www.kaggle.com/learn/intro-to-sql/discussion) to chat with other learners.*"
   ]
  }
 ],
 "metadata": {
  "kaggle": {
   "accelerator": "none",
   "dataSources": [
    {
     "datasetId": 6057,
     "sourceId": 285982,
     "sourceType": "datasetVersion"
    }
   ],
   "isGpuEnabled": false,
   "isInternetEnabled": false,
   "language": "python",
   "sourceType": "notebook"
  },
  "kernelspec": {
   "display_name": "Python 3",
   "language": "python",
   "name": "python3"
  },
  "language_info": {
   "codemirror_mode": {
    "name": "ipython",
    "version": 3
   },
   "file_extension": ".py",
   "mimetype": "text/x-python",
   "name": "python",
   "nbconvert_exporter": "python",
   "pygments_lexer": "ipython3",
   "version": "3.10.13"
  },
  "papermill": {
   "default_parameters": {},
   "duration": 19.131863,
   "end_time": "2024-07-19T06:25:54.943731",
   "environment_variables": {},
   "exception": null,
   "input_path": "__notebook__.ipynb",
   "output_path": "__notebook__.ipynb",
   "parameters": {},
   "start_time": "2024-07-19T06:25:35.811868",
   "version": "2.5.0"
  }
 },
 "nbformat": 4,
 "nbformat_minor": 5
}
